{
 "cells": [
  {
   "cell_type": "markdown",
   "id": "f61f531b",
   "metadata": {},
   "source": [
    "#### Defining llm & embedding"
   ]
  },
  {
   "cell_type": "code",
   "execution_count": 4,
   "id": "1c5f7ea1",
   "metadata": {
    "scrolled": true
   },
   "outputs": [
    {
     "name": "stderr",
     "output_type": "stream",
     "text": [
      "C:\\Users\\I068117\\AppData\\Local\\Temp\\ipykernel_35900\\2491488312.py:3: UserWarning: Starting from verison 1.0.0 the default proxy_version was set to 'gen-ai-hub'. Use gen_ai_hub.proxy.core.proxy_clients.set_proxy_version('btp') to set the proxy_version to 'btp'.\n",
      "  from llm_commons.langchain.proxy import ChatOpenAI\n"
     ]
    }
   ],
   "source": [
    "import pandas as pd\n",
    "import numpy as np\n",
    "from llm_commons.langchain.proxy import ChatOpenAI\n",
    "from llm_commons.langchain.proxy import OpenAIEmbeddings\n",
    "from ipywidgets import widgets\n",
    "\n",
    "llm_model_name = widgets.Dropdown(\n",
    "    options=[\n",
    "        \"gpt-35-turbo\",\n",
    "        \"gpt-35-turbo-16k\",\n",
    "        \"gpt-4\",\n",
    "        \"gpt-4-32k\",\n",
    "        \"gpt-4-turbo\",\n",
    "        \"gemini-1.0-pro\",\n",
    "        \"gpt-4-vision\"\n",
    "        # \"tiiuae--falcon-40b-instruct\"\n",
    "    ],\n",
    "    value=\"gpt-35-turbo-16k\",\n",
    "    description=\"LLM Model Name\",\n",
    "    disabled=False,\n",
    ")\n",
    "\n",
    "\n",
    "llm = ChatOpenAI(proxy_model_name=llm_model_name.value)\n",
    "embeddings = OpenAIEmbeddings(proxy_model_name='text-embedding-ada-002')\n",
    "\n",
    "from llama_index.embeddings.langchain import LangchainEmbedding\n",
    "from llama_index.llms.langchain import LangChainLLM\n",
    "\n",
    "llama_llm = LangChainLLM(llm)\n",
    "llama_emb= LangchainEmbedding(embeddings)\n",
    "\n",
    "from llama_index.core import Settings\n",
    "Settings.embed_model = embeddings\n",
    "Settings.llm = llm"
   ]
  },
  {
   "cell_type": "markdown",
   "id": "b0a4ab7d",
   "metadata": {},
   "source": [
    "### Creating LLama_index documents from the corpus data -US & Global Flex policy\n"
   ]
  },
  {
   "cell_type": "code",
   "execution_count": 6,
   "id": "ee4f585a",
   "metadata": {},
   "outputs": [],
   "source": [
    "from llama_index.core.node_parser import (\n",
    "    SentenceSplitter,\n",
    "    SemanticSplitterNodeParser,\n",
    ")\n",
    "splitter = SemanticSplitterNodeParser(\n",
    "    buffer_size=1, breakpoint_percentile_threshold=95, embed_model=llama_emb\n",
    ")\n",
    "\n",
    "# also baseline splitter\n",
    "base_splitter = SentenceSplitter(chunk_size=512)"
   ]
  },
  {
   "cell_type": "code",
   "execution_count": 1,
   "id": "0b5d78b9",
   "metadata": {},
   "outputs": [
    {
     "name": "stderr",
     "output_type": "stream",
     "text": [
      "Ignoring wrong pointing object 93 0 (offset 0)\n"
     ]
    }
   ],
   "source": [
    "from llama_index.core import SimpleDirectoryReader\n",
    "\n",
    "# load documents\n",
    "documents = SimpleDirectoryReader(input_files=[\"202204_Pledge_to_Flex_Global_FAQ.pdf\"]).load_data()\n",
    "US_document= SimpleDirectoryReader(input_files=[\"US Flex Work FAQs.pdf\"]).load_data()"
   ]
  },
  {
   "cell_type": "code",
   "execution_count": 7,
   "id": "25a2db7a",
   "metadata": {},
   "outputs": [],
   "source": [
    "nodes = splitter.get_nodes_from_documents(documents)\n",
    "US_nodes = splitter.get_nodes_from_documents(US_document)"
   ]
  },
  {
   "cell_type": "markdown",
   "id": "265dfaa5",
   "metadata": {},
   "source": [
    "#### Strict meta-data filtering can be between HR policy document vs Concur travel policy document. \n",
    "#### Non-strict meta data :  local vs global HR policy document. "
   ]
  },
  {
   "cell_type": "code",
   "execution_count": 38,
   "id": "cd1f40f5",
   "metadata": {},
   "outputs": [],
   "source": [
    "nodes_list = []\n",
    "for node in nodes:\n",
    "    node.metadata[\"context\"] = \"global\"\n",
    "    nodes_list.append(node)\n",
    "\n",
    "for node in US_nodes:\n",
    "    node.metadata[\"context\"] = \"US\"\n",
    "    nodes_list.append(node)"
   ]
  },
  {
   "cell_type": "code",
   "execution_count": 40,
   "id": "6f088f57",
   "metadata": {},
   "outputs": [
    {
     "name": "stdout",
     "output_type": "stream",
     "text": [
      "page_label: 6\n",
      "file_name: US Flex Work FAQs.pdf\n",
      "file_path: US Flex Work FAQs.pdf\n",
      "file_type: application/pdf\n",
      "file_size: 627129\n",
      "creation_date: 2024-07-07\n",
      "last_modified_date: 2024-07-07\n",
      "context: US\n",
      "\n",
      "Do not use the Full \n",
      "Home Office setting for this situation.  \n",
      "Why was a distance of  greater than 40 miles selected as a marker for Full Home Office  or Hybrid - Majority Home Office  \n",
      "situations to remain if business -approved ? \n",
      "SAP does not define remote work arrangements in contractual agreement s for employees in  the US or Canada . All \n",
      "employees are assigned to an SAP office . This meant  a uniform benchmark was required  to define employees \n",
      "working from locations where no SAP office exists. Generally, 50 miles is the industry standard being used by \n",
      "many companies to define  commutable distance. SAP elected for the benefit of employees to lower this  \n",
      "benchmark  to 40 miles.  \n",
      "How is it confirmed who remains Full Home Office or Hybrid - Majority Home Office  status in Success Map due to being \n",
      "greater than 40 miles from the nearest SAP office?  \n",
      "Employees are expected to advise their managers that they are in th is situation if they have not already.\n"
     ]
    }
   ],
   "source": [
    "print(nodes_list[50].get_content(metadata_mode=\"all\"))"
   ]
  },
  {
   "cell_type": "markdown",
   "id": "7f3b1548",
   "metadata": {},
   "source": [
    "##### ChromaVector store"
   ]
  },
  {
   "cell_type": "code",
   "execution_count": 28,
   "id": "3baa8a4d",
   "metadata": {},
   "outputs": [],
   "source": [
    "import nest_asyncio\n",
    "nest_asyncio.apply()"
   ]
  },
  {
   "cell_type": "code",
   "execution_count": 29,
   "id": "de0fbfd5",
   "metadata": {},
   "outputs": [],
   "source": [
    "import logging\n",
    "import sys\n",
    "\n",
    "logging.basicConfig(stream=sys.stdout, level=logging.INFO)\n",
    "logging.getLogger().addHandler(logging.StreamHandler(stream=sys.stdout))"
   ]
  },
  {
   "cell_type": "code",
   "execution_count": 30,
   "id": "57562d87",
   "metadata": {},
   "outputs": [
    {
     "name": "stdout",
     "output_type": "stream",
     "text": [
      "INFO:chromadb.telemetry.product.posthog:Anonymized telemetry enabled. See                     https://docs.trychroma.com/telemetry for more information.\n",
      "Anonymized telemetry enabled. See                     https://docs.trychroma.com/telemetry for more information.\n"
     ]
    }
   ],
   "source": [
    "import chromadb\n",
    "chroma_client = chromadb.EphemeralClient()\n",
    "chroma_collection = chroma_client.create_collection(\"quickstart\")"
   ]
  },
  {
   "cell_type": "code",
   "execution_count": 31,
   "id": "ab2ab0b0",
   "metadata": {},
   "outputs": [],
   "source": [
    "from llama_index.vector_stores.chroma import ChromaVectorStore\n",
    "\n",
    "#Storing index on the disk\n",
    "from llama_index.core import (\n",
    "    load_index_from_storage,\n",
    "    VectorStoreIndex,\n",
    "    StorageContext,\n",
    ")\n",
    "\n",
    "vector_store = ChromaVectorStore(chroma_collection=chroma_collection)\n",
    "storage_context = StorageContext.from_defaults(vector_store=vector_store)"
   ]
  },
  {
   "cell_type": "markdown",
   "id": "a2f0e434",
   "metadata": {},
   "source": [
    "### Strict Meta-data filtering based on global policy document [Optional]"
   ]
  },
  {
   "cell_type": "code",
   "execution_count": 75,
   "id": "aadd9d04",
   "metadata": {
    "collapsed": true
   },
   "outputs": [
    {
     "name": "stdout",
     "output_type": "stream",
     "text": [
      "INFO:httpx:HTTP Request: POST https://api.ai.intprod-eu12.eu-central-1.aws.ml.hana.ondemand.com/v2/inference/deployments/dcf97822fc795ac1/embeddings?api-version=2023-09-01-preview \"HTTP/1.1 200 OK\"\n",
      "HTTP Request: POST https://api.ai.intprod-eu12.eu-central-1.aws.ml.hana.ondemand.com/v2/inference/deployments/dcf97822fc795ac1/embeddings?api-version=2023-09-01-preview \"HTTP/1.1 200 OK\"\n",
      "INFO:httpx:HTTP Request: POST https://api.ai.intprod-eu12.eu-central-1.aws.ml.hana.ondemand.com/v2/inference/deployments/dcf97822fc795ac1/embeddings?api-version=2023-09-01-preview \"HTTP/1.1 200 OK\"\n",
      "HTTP Request: POST https://api.ai.intprod-eu12.eu-central-1.aws.ml.hana.ondemand.com/v2/inference/deployments/dcf97822fc795ac1/embeddings?api-version=2023-09-01-preview \"HTTP/1.1 200 OK\"\n",
      "INFO:httpx:HTTP Request: POST https://api.ai.intprod-eu12.eu-central-1.aws.ml.hana.ondemand.com/v2/inference/deployments/dcf97822fc795ac1/embeddings?api-version=2023-09-01-preview \"HTTP/1.1 200 OK\"\n",
      "HTTP Request: POST https://api.ai.intprod-eu12.eu-central-1.aws.ml.hana.ondemand.com/v2/inference/deployments/dcf97822fc795ac1/embeddings?api-version=2023-09-01-preview \"HTTP/1.1 200 OK\"\n",
      "INFO:httpx:HTTP Request: POST https://api.ai.intprod-eu12.eu-central-1.aws.ml.hana.ondemand.com/v2/inference/deployments/dcf97822fc795ac1/embeddings?api-version=2023-09-01-preview \"HTTP/1.1 200 OK\"\n",
      "HTTP Request: POST https://api.ai.intprod-eu12.eu-central-1.aws.ml.hana.ondemand.com/v2/inference/deployments/dcf97822fc795ac1/embeddings?api-version=2023-09-01-preview \"HTTP/1.1 200 OK\"\n",
      "INFO:httpx:HTTP Request: POST https://api.ai.intprod-eu12.eu-central-1.aws.ml.hana.ondemand.com/v2/inference/deployments/dcf97822fc795ac1/embeddings?api-version=2023-09-01-preview \"HTTP/1.1 200 OK\"\n",
      "HTTP Request: POST https://api.ai.intprod-eu12.eu-central-1.aws.ml.hana.ondemand.com/v2/inference/deployments/dcf97822fc795ac1/embeddings?api-version=2023-09-01-preview \"HTTP/1.1 200 OK\"\n",
      "INFO:httpx:HTTP Request: POST https://api.ai.intprod-eu12.eu-central-1.aws.ml.hana.ondemand.com/v2/inference/deployments/dcf97822fc795ac1/embeddings?api-version=2023-09-01-preview \"HTTP/1.1 200 OK\"\n",
      "HTTP Request: POST https://api.ai.intprod-eu12.eu-central-1.aws.ml.hana.ondemand.com/v2/inference/deployments/dcf97822fc795ac1/embeddings?api-version=2023-09-01-preview \"HTTP/1.1 200 OK\"\n",
      "INFO:httpx:HTTP Request: POST https://api.ai.intprod-eu12.eu-central-1.aws.ml.hana.ondemand.com/v2/inference/deployments/dcf97822fc795ac1/embeddings?api-version=2023-09-01-preview \"HTTP/1.1 200 OK\"\n",
      "HTTP Request: POST https://api.ai.intprod-eu12.eu-central-1.aws.ml.hana.ondemand.com/v2/inference/deployments/dcf97822fc795ac1/embeddings?api-version=2023-09-01-preview \"HTTP/1.1 200 OK\"\n",
      "INFO:httpx:HTTP Request: POST https://api.ai.intprod-eu12.eu-central-1.aws.ml.hana.ondemand.com/v2/inference/deployments/dcf97822fc795ac1/embeddings?api-version=2023-09-01-preview \"HTTP/1.1 200 OK\"\n",
      "HTTP Request: POST https://api.ai.intprod-eu12.eu-central-1.aws.ml.hana.ondemand.com/v2/inference/deployments/dcf97822fc795ac1/embeddings?api-version=2023-09-01-preview \"HTTP/1.1 200 OK\"\n",
      "INFO:httpx:HTTP Request: POST https://api.ai.intprod-eu12.eu-central-1.aws.ml.hana.ondemand.com/v2/inference/deployments/dcf97822fc795ac1/embeddings?api-version=2023-09-01-preview \"HTTP/1.1 200 OK\"\n",
      "HTTP Request: POST https://api.ai.intprod-eu12.eu-central-1.aws.ml.hana.ondemand.com/v2/inference/deployments/dcf97822fc795ac1/embeddings?api-version=2023-09-01-preview \"HTTP/1.1 200 OK\"\n",
      "INFO:httpx:HTTP Request: POST https://api.ai.intprod-eu12.eu-central-1.aws.ml.hana.ondemand.com/v2/inference/deployments/dcf97822fc795ac1/embeddings?api-version=2023-09-01-preview \"HTTP/1.1 200 OK\"\n",
      "HTTP Request: POST https://api.ai.intprod-eu12.eu-central-1.aws.ml.hana.ondemand.com/v2/inference/deployments/dcf97822fc795ac1/embeddings?api-version=2023-09-01-preview \"HTTP/1.1 200 OK\"\n",
      "INFO:httpx:HTTP Request: POST https://api.ai.intprod-eu12.eu-central-1.aws.ml.hana.ondemand.com/v2/inference/deployments/dcf97822fc795ac1/embeddings?api-version=2023-09-01-preview \"HTTP/1.1 200 OK\"\n",
      "HTTP Request: POST https://api.ai.intprod-eu12.eu-central-1.aws.ml.hana.ondemand.com/v2/inference/deployments/dcf97822fc795ac1/embeddings?api-version=2023-09-01-preview \"HTTP/1.1 200 OK\"\n",
      "INFO:httpx:HTTP Request: POST https://api.ai.intprod-eu12.eu-central-1.aws.ml.hana.ondemand.com/v2/inference/deployments/dcf97822fc795ac1/embeddings?api-version=2023-09-01-preview \"HTTP/1.1 200 OK\"\n",
      "HTTP Request: POST https://api.ai.intprod-eu12.eu-central-1.aws.ml.hana.ondemand.com/v2/inference/deployments/dcf97822fc795ac1/embeddings?api-version=2023-09-01-preview \"HTTP/1.1 200 OK\"\n",
      "INFO:httpx:HTTP Request: POST https://api.ai.intprod-eu12.eu-central-1.aws.ml.hana.ondemand.com/v2/inference/deployments/dcf97822fc795ac1/embeddings?api-version=2023-09-01-preview \"HTTP/1.1 200 OK\"\n",
      "HTTP Request: POST https://api.ai.intprod-eu12.eu-central-1.aws.ml.hana.ondemand.com/v2/inference/deployments/dcf97822fc795ac1/embeddings?api-version=2023-09-01-preview \"HTTP/1.1 200 OK\"\n",
      "INFO:httpx:HTTP Request: POST https://api.ai.intprod-eu12.eu-central-1.aws.ml.hana.ondemand.com/v2/inference/deployments/dcf97822fc795ac1/embeddings?api-version=2023-09-01-preview \"HTTP/1.1 200 OK\"\n",
      "HTTP Request: POST https://api.ai.intprod-eu12.eu-central-1.aws.ml.hana.ondemand.com/v2/inference/deployments/dcf97822fc795ac1/embeddings?api-version=2023-09-01-preview \"HTTP/1.1 200 OK\"\n",
      "INFO:httpx:HTTP Request: POST https://api.ai.intprod-eu12.eu-central-1.aws.ml.hana.ondemand.com/v2/inference/deployments/dcf97822fc795ac1/embeddings?api-version=2023-09-01-preview \"HTTP/1.1 200 OK\"\n",
      "HTTP Request: POST https://api.ai.intprod-eu12.eu-central-1.aws.ml.hana.ondemand.com/v2/inference/deployments/dcf97822fc795ac1/embeddings?api-version=2023-09-01-preview \"HTTP/1.1 200 OK\"\n",
      "INFO:httpx:HTTP Request: POST https://api.ai.intprod-eu12.eu-central-1.aws.ml.hana.ondemand.com/v2/inference/deployments/dcf97822fc795ac1/embeddings?api-version=2023-09-01-preview \"HTTP/1.1 200 OK\"\n",
      "HTTP Request: POST https://api.ai.intprod-eu12.eu-central-1.aws.ml.hana.ondemand.com/v2/inference/deployments/dcf97822fc795ac1/embeddings?api-version=2023-09-01-preview \"HTTP/1.1 200 OK\"\n",
      "INFO:httpx:HTTP Request: POST https://api.ai.intprod-eu12.eu-central-1.aws.ml.hana.ondemand.com/v2/inference/deployments/dcf97822fc795ac1/embeddings?api-version=2023-09-01-preview \"HTTP/1.1 200 OK\"\n",
      "HTTP Request: POST https://api.ai.intprod-eu12.eu-central-1.aws.ml.hana.ondemand.com/v2/inference/deployments/dcf97822fc795ac1/embeddings?api-version=2023-09-01-preview \"HTTP/1.1 200 OK\"\n",
      "INFO:httpx:HTTP Request: POST https://api.ai.intprod-eu12.eu-central-1.aws.ml.hana.ondemand.com/v2/inference/deployments/dcf97822fc795ac1/embeddings?api-version=2023-09-01-preview \"HTTP/1.1 200 OK\"\n",
      "HTTP Request: POST https://api.ai.intprod-eu12.eu-central-1.aws.ml.hana.ondemand.com/v2/inference/deployments/dcf97822fc795ac1/embeddings?api-version=2023-09-01-preview \"HTTP/1.1 200 OK\"\n",
      "INFO:httpx:HTTP Request: POST https://api.ai.intprod-eu12.eu-central-1.aws.ml.hana.ondemand.com/v2/inference/deployments/dcf97822fc795ac1/embeddings?api-version=2023-09-01-preview \"HTTP/1.1 200 OK\"\n",
      "HTTP Request: POST https://api.ai.intprod-eu12.eu-central-1.aws.ml.hana.ondemand.com/v2/inference/deployments/dcf97822fc795ac1/embeddings?api-version=2023-09-01-preview \"HTTP/1.1 200 OK\"\n",
      "INFO:httpx:HTTP Request: POST https://api.ai.intprod-eu12.eu-central-1.aws.ml.hana.ondemand.com/v2/inference/deployments/dcf97822fc795ac1/embeddings?api-version=2023-09-01-preview \"HTTP/1.1 200 OK\"\n",
      "HTTP Request: POST https://api.ai.intprod-eu12.eu-central-1.aws.ml.hana.ondemand.com/v2/inference/deployments/dcf97822fc795ac1/embeddings?api-version=2023-09-01-preview \"HTTP/1.1 200 OK\"\n",
      "INFO:httpx:HTTP Request: POST https://api.ai.intprod-eu12.eu-central-1.aws.ml.hana.ondemand.com/v2/inference/deployments/dcf97822fc795ac1/embeddings?api-version=2023-09-01-preview \"HTTP/1.1 200 OK\"\n",
      "HTTP Request: POST https://api.ai.intprod-eu12.eu-central-1.aws.ml.hana.ondemand.com/v2/inference/deployments/dcf97822fc795ac1/embeddings?api-version=2023-09-01-preview \"HTTP/1.1 200 OK\"\n",
      "INFO:httpx:HTTP Request: POST https://api.ai.intprod-eu12.eu-central-1.aws.ml.hana.ondemand.com/v2/inference/deployments/dcf97822fc795ac1/embeddings?api-version=2023-09-01-preview \"HTTP/1.1 200 OK\"\n"
     ]
    },
    {
     "name": "stdout",
     "output_type": "stream",
     "text": [
      "HTTP Request: POST https://api.ai.intprod-eu12.eu-central-1.aws.ml.hana.ondemand.com/v2/inference/deployments/dcf97822fc795ac1/embeddings?api-version=2023-09-01-preview \"HTTP/1.1 200 OK\"\n",
      "INFO:httpx:HTTP Request: POST https://api.ai.intprod-eu12.eu-central-1.aws.ml.hana.ondemand.com/v2/inference/deployments/dcf97822fc795ac1/embeddings?api-version=2023-09-01-preview \"HTTP/1.1 200 OK\"\n",
      "HTTP Request: POST https://api.ai.intprod-eu12.eu-central-1.aws.ml.hana.ondemand.com/v2/inference/deployments/dcf97822fc795ac1/embeddings?api-version=2023-09-01-preview \"HTTP/1.1 200 OK\"\n",
      "INFO:httpx:HTTP Request: POST https://api.ai.intprod-eu12.eu-central-1.aws.ml.hana.ondemand.com/v2/inference/deployments/dcf97822fc795ac1/embeddings?api-version=2023-09-01-preview \"HTTP/1.1 200 OK\"\n",
      "HTTP Request: POST https://api.ai.intprod-eu12.eu-central-1.aws.ml.hana.ondemand.com/v2/inference/deployments/dcf97822fc795ac1/embeddings?api-version=2023-09-01-preview \"HTTP/1.1 200 OK\"\n",
      "INFO:httpx:HTTP Request: POST https://api.ai.intprod-eu12.eu-central-1.aws.ml.hana.ondemand.com/v2/inference/deployments/dcf97822fc795ac1/embeddings?api-version=2023-09-01-preview \"HTTP/1.1 200 OK\"\n",
      "HTTP Request: POST https://api.ai.intprod-eu12.eu-central-1.aws.ml.hana.ondemand.com/v2/inference/deployments/dcf97822fc795ac1/embeddings?api-version=2023-09-01-preview \"HTTP/1.1 200 OK\"\n",
      "INFO:httpx:HTTP Request: POST https://api.ai.intprod-eu12.eu-central-1.aws.ml.hana.ondemand.com/v2/inference/deployments/dcf97822fc795ac1/embeddings?api-version=2023-09-01-preview \"HTTP/1.1 200 OK\"\n",
      "HTTP Request: POST https://api.ai.intprod-eu12.eu-central-1.aws.ml.hana.ondemand.com/v2/inference/deployments/dcf97822fc795ac1/embeddings?api-version=2023-09-01-preview \"HTTP/1.1 200 OK\"\n",
      "INFO:httpx:HTTP Request: POST https://api.ai.intprod-eu12.eu-central-1.aws.ml.hana.ondemand.com/v2/inference/deployments/dcf97822fc795ac1/embeddings?api-version=2023-09-01-preview \"HTTP/1.1 200 OK\"\n",
      "HTTP Request: POST https://api.ai.intprod-eu12.eu-central-1.aws.ml.hana.ondemand.com/v2/inference/deployments/dcf97822fc795ac1/embeddings?api-version=2023-09-01-preview \"HTTP/1.1 200 OK\"\n",
      "INFO:httpx:HTTP Request: POST https://api.ai.intprod-eu12.eu-central-1.aws.ml.hana.ondemand.com/v2/inference/deployments/dcf97822fc795ac1/embeddings?api-version=2023-09-01-preview \"HTTP/1.1 200 OK\"\n",
      "HTTP Request: POST https://api.ai.intprod-eu12.eu-central-1.aws.ml.hana.ondemand.com/v2/inference/deployments/dcf97822fc795ac1/embeddings?api-version=2023-09-01-preview \"HTTP/1.1 200 OK\"\n",
      "INFO:httpx:HTTP Request: POST https://api.ai.intprod-eu12.eu-central-1.aws.ml.hana.ondemand.com/v2/inference/deployments/dcf97822fc795ac1/embeddings?api-version=2023-09-01-preview \"HTTP/1.1 200 OK\"\n",
      "HTTP Request: POST https://api.ai.intprod-eu12.eu-central-1.aws.ml.hana.ondemand.com/v2/inference/deployments/dcf97822fc795ac1/embeddings?api-version=2023-09-01-preview \"HTTP/1.1 200 OK\"\n",
      "INFO:httpx:HTTP Request: POST https://api.ai.intprod-eu12.eu-central-1.aws.ml.hana.ondemand.com/v2/inference/deployments/dcf97822fc795ac1/embeddings?api-version=2023-09-01-preview \"HTTP/1.1 200 OK\"\n",
      "HTTP Request: POST https://api.ai.intprod-eu12.eu-central-1.aws.ml.hana.ondemand.com/v2/inference/deployments/dcf97822fc795ac1/embeddings?api-version=2023-09-01-preview \"HTTP/1.1 200 OK\"\n",
      "INFO:httpx:HTTP Request: POST https://api.ai.intprod-eu12.eu-central-1.aws.ml.hana.ondemand.com/v2/inference/deployments/dcf97822fc795ac1/embeddings?api-version=2023-09-01-preview \"HTTP/1.1 200 OK\"\n",
      "HTTP Request: POST https://api.ai.intprod-eu12.eu-central-1.aws.ml.hana.ondemand.com/v2/inference/deployments/dcf97822fc795ac1/embeddings?api-version=2023-09-01-preview \"HTTP/1.1 200 OK\"\n",
      "INFO:httpx:HTTP Request: POST https://api.ai.intprod-eu12.eu-central-1.aws.ml.hana.ondemand.com/v2/inference/deployments/dcf97822fc795ac1/embeddings?api-version=2023-09-01-preview \"HTTP/1.1 200 OK\"\n",
      "HTTP Request: POST https://api.ai.intprod-eu12.eu-central-1.aws.ml.hana.ondemand.com/v2/inference/deployments/dcf97822fc795ac1/embeddings?api-version=2023-09-01-preview \"HTTP/1.1 200 OK\"\n",
      "INFO:httpx:HTTP Request: POST https://api.ai.intprod-eu12.eu-central-1.aws.ml.hana.ondemand.com/v2/inference/deployments/dcf97822fc795ac1/embeddings?api-version=2023-09-01-preview \"HTTP/1.1 200 OK\"\n",
      "HTTP Request: POST https://api.ai.intprod-eu12.eu-central-1.aws.ml.hana.ondemand.com/v2/inference/deployments/dcf97822fc795ac1/embeddings?api-version=2023-09-01-preview \"HTTP/1.1 200 OK\"\n",
      "INFO:httpx:HTTP Request: POST https://api.ai.intprod-eu12.eu-central-1.aws.ml.hana.ondemand.com/v2/inference/deployments/dcf97822fc795ac1/embeddings?api-version=2023-09-01-preview \"HTTP/1.1 200 OK\"\n",
      "HTTP Request: POST https://api.ai.intprod-eu12.eu-central-1.aws.ml.hana.ondemand.com/v2/inference/deployments/dcf97822fc795ac1/embeddings?api-version=2023-09-01-preview \"HTTP/1.1 200 OK\"\n",
      "INFO:httpx:HTTP Request: POST https://api.ai.intprod-eu12.eu-central-1.aws.ml.hana.ondemand.com/v2/inference/deployments/dcf97822fc795ac1/embeddings?api-version=2023-09-01-preview \"HTTP/1.1 200 OK\"\n",
      "HTTP Request: POST https://api.ai.intprod-eu12.eu-central-1.aws.ml.hana.ondemand.com/v2/inference/deployments/dcf97822fc795ac1/embeddings?api-version=2023-09-01-preview \"HTTP/1.1 200 OK\"\n",
      "INFO:httpx:HTTP Request: POST https://api.ai.intprod-eu12.eu-central-1.aws.ml.hana.ondemand.com/v2/inference/deployments/dcf97822fc795ac1/embeddings?api-version=2023-09-01-preview \"HTTP/1.1 200 OK\"\n",
      "HTTP Request: POST https://api.ai.intprod-eu12.eu-central-1.aws.ml.hana.ondemand.com/v2/inference/deployments/dcf97822fc795ac1/embeddings?api-version=2023-09-01-preview \"HTTP/1.1 200 OK\"\n",
      "INFO:httpx:HTTP Request: POST https://api.ai.intprod-eu12.eu-central-1.aws.ml.hana.ondemand.com/v2/inference/deployments/dcf97822fc795ac1/embeddings?api-version=2023-09-01-preview \"HTTP/1.1 200 OK\"\n",
      "HTTP Request: POST https://api.ai.intprod-eu12.eu-central-1.aws.ml.hana.ondemand.com/v2/inference/deployments/dcf97822fc795ac1/embeddings?api-version=2023-09-01-preview \"HTTP/1.1 200 OK\"\n",
      "INFO:httpx:HTTP Request: POST https://api.ai.intprod-eu12.eu-central-1.aws.ml.hana.ondemand.com/v2/inference/deployments/dcf97822fc795ac1/embeddings?api-version=2023-09-01-preview \"HTTP/1.1 200 OK\"\n",
      "HTTP Request: POST https://api.ai.intprod-eu12.eu-central-1.aws.ml.hana.ondemand.com/v2/inference/deployments/dcf97822fc795ac1/embeddings?api-version=2023-09-01-preview \"HTTP/1.1 200 OK\"\n",
      "INFO:httpx:HTTP Request: POST https://api.ai.intprod-eu12.eu-central-1.aws.ml.hana.ondemand.com/v2/inference/deployments/dcf97822fc795ac1/embeddings?api-version=2023-09-01-preview \"HTTP/1.1 200 OK\"\n",
      "HTTP Request: POST https://api.ai.intprod-eu12.eu-central-1.aws.ml.hana.ondemand.com/v2/inference/deployments/dcf97822fc795ac1/embeddings?api-version=2023-09-01-preview \"HTTP/1.1 200 OK\"\n",
      "INFO:httpx:HTTP Request: POST https://api.ai.intprod-eu12.eu-central-1.aws.ml.hana.ondemand.com/v2/inference/deployments/dcf97822fc795ac1/embeddings?api-version=2023-09-01-preview \"HTTP/1.1 200 OK\"\n",
      "HTTP Request: POST https://api.ai.intprod-eu12.eu-central-1.aws.ml.hana.ondemand.com/v2/inference/deployments/dcf97822fc795ac1/embeddings?api-version=2023-09-01-preview \"HTTP/1.1 200 OK\"\n",
      "INFO:httpx:HTTP Request: POST https://api.ai.intprod-eu12.eu-central-1.aws.ml.hana.ondemand.com/v2/inference/deployments/dcf97822fc795ac1/embeddings?api-version=2023-09-01-preview \"HTTP/1.1 200 OK\"\n",
      "HTTP Request: POST https://api.ai.intprod-eu12.eu-central-1.aws.ml.hana.ondemand.com/v2/inference/deployments/dcf97822fc795ac1/embeddings?api-version=2023-09-01-preview \"HTTP/1.1 200 OK\"\n",
      "INFO:httpx:HTTP Request: POST https://api.ai.intprod-eu12.eu-central-1.aws.ml.hana.ondemand.com/v2/inference/deployments/dcf97822fc795ac1/embeddings?api-version=2023-09-01-preview \"HTTP/1.1 200 OK\"\n",
      "HTTP Request: POST https://api.ai.intprod-eu12.eu-central-1.aws.ml.hana.ondemand.com/v2/inference/deployments/dcf97822fc795ac1/embeddings?api-version=2023-09-01-preview \"HTTP/1.1 200 OK\"\n",
      "INFO:httpx:HTTP Request: POST https://api.ai.intprod-eu12.eu-central-1.aws.ml.hana.ondemand.com/v2/inference/deployments/dcf97822fc795ac1/embeddings?api-version=2023-09-01-preview \"HTTP/1.1 200 OK\"\n",
      "HTTP Request: POST https://api.ai.intprod-eu12.eu-central-1.aws.ml.hana.ondemand.com/v2/inference/deployments/dcf97822fc795ac1/embeddings?api-version=2023-09-01-preview \"HTTP/1.1 200 OK\"\n"
     ]
    },
    {
     "name": "stdout",
     "output_type": "stream",
     "text": [
      "INFO:httpx:HTTP Request: POST https://api.ai.intprod-eu12.eu-central-1.aws.ml.hana.ondemand.com/v2/inference/deployments/dcf97822fc795ac1/embeddings?api-version=2023-09-01-preview \"HTTP/1.1 200 OK\"\n",
      "HTTP Request: POST https://api.ai.intprod-eu12.eu-central-1.aws.ml.hana.ondemand.com/v2/inference/deployments/dcf97822fc795ac1/embeddings?api-version=2023-09-01-preview \"HTTP/1.1 200 OK\"\n",
      "INFO:httpx:HTTP Request: POST https://api.ai.intprod-eu12.eu-central-1.aws.ml.hana.ondemand.com/v2/inference/deployments/dcf97822fc795ac1/embeddings?api-version=2023-09-01-preview \"HTTP/1.1 200 OK\"\n",
      "HTTP Request: POST https://api.ai.intprod-eu12.eu-central-1.aws.ml.hana.ondemand.com/v2/inference/deployments/dcf97822fc795ac1/embeddings?api-version=2023-09-01-preview \"HTTP/1.1 200 OK\"\n",
      "INFO:httpx:HTTP Request: POST https://api.ai.intprod-eu12.eu-central-1.aws.ml.hana.ondemand.com/v2/inference/deployments/dcf97822fc795ac1/embeddings?api-version=2023-09-01-preview \"HTTP/1.1 200 OK\"\n",
      "HTTP Request: POST https://api.ai.intprod-eu12.eu-central-1.aws.ml.hana.ondemand.com/v2/inference/deployments/dcf97822fc795ac1/embeddings?api-version=2023-09-01-preview \"HTTP/1.1 200 OK\"\n",
      "INFO:httpx:HTTP Request: POST https://api.ai.intprod-eu12.eu-central-1.aws.ml.hana.ondemand.com/v2/inference/deployments/dcf97822fc795ac1/embeddings?api-version=2023-09-01-preview \"HTTP/1.1 200 OK\"\n",
      "HTTP Request: POST https://api.ai.intprod-eu12.eu-central-1.aws.ml.hana.ondemand.com/v2/inference/deployments/dcf97822fc795ac1/embeddings?api-version=2023-09-01-preview \"HTTP/1.1 200 OK\"\n",
      "INFO:httpx:HTTP Request: POST https://api.ai.intprod-eu12.eu-central-1.aws.ml.hana.ondemand.com/v2/inference/deployments/dcf97822fc795ac1/embeddings?api-version=2023-09-01-preview \"HTTP/1.1 200 OK\"\n",
      "HTTP Request: POST https://api.ai.intprod-eu12.eu-central-1.aws.ml.hana.ondemand.com/v2/inference/deployments/dcf97822fc795ac1/embeddings?api-version=2023-09-01-preview \"HTTP/1.1 200 OK\"\n",
      "INFO:httpx:HTTP Request: POST https://api.ai.intprod-eu12.eu-central-1.aws.ml.hana.ondemand.com/v2/inference/deployments/dcf97822fc795ac1/embeddings?api-version=2023-09-01-preview \"HTTP/1.1 200 OK\"\n",
      "HTTP Request: POST https://api.ai.intprod-eu12.eu-central-1.aws.ml.hana.ondemand.com/v2/inference/deployments/dcf97822fc795ac1/embeddings?api-version=2023-09-01-preview \"HTTP/1.1 200 OK\"\n",
      "INFO:httpx:HTTP Request: POST https://api.ai.intprod-eu12.eu-central-1.aws.ml.hana.ondemand.com/v2/inference/deployments/dcf97822fc795ac1/embeddings?api-version=2023-09-01-preview \"HTTP/1.1 200 OK\"\n",
      "HTTP Request: POST https://api.ai.intprod-eu12.eu-central-1.aws.ml.hana.ondemand.com/v2/inference/deployments/dcf97822fc795ac1/embeddings?api-version=2023-09-01-preview \"HTTP/1.1 200 OK\"\n",
      "INFO:httpx:HTTP Request: POST https://api.ai.intprod-eu12.eu-central-1.aws.ml.hana.ondemand.com/v2/inference/deployments/dcf97822fc795ac1/embeddings?api-version=2023-09-01-preview \"HTTP/1.1 200 OK\"\n",
      "HTTP Request: POST https://api.ai.intprod-eu12.eu-central-1.aws.ml.hana.ondemand.com/v2/inference/deployments/dcf97822fc795ac1/embeddings?api-version=2023-09-01-preview \"HTTP/1.1 200 OK\"\n",
      "INFO:httpx:HTTP Request: POST https://api.ai.intprod-eu12.eu-central-1.aws.ml.hana.ondemand.com/v2/inference/deployments/dcf97822fc795ac1/embeddings?api-version=2023-09-01-preview \"HTTP/1.1 200 OK\"\n",
      "HTTP Request: POST https://api.ai.intprod-eu12.eu-central-1.aws.ml.hana.ondemand.com/v2/inference/deployments/dcf97822fc795ac1/embeddings?api-version=2023-09-01-preview \"HTTP/1.1 200 OK\"\n",
      "INFO:httpx:HTTP Request: POST https://api.ai.intprod-eu12.eu-central-1.aws.ml.hana.ondemand.com/v2/inference/deployments/dcf97822fc795ac1/embeddings?api-version=2023-09-01-preview \"HTTP/1.1 200 OK\"\n",
      "HTTP Request: POST https://api.ai.intprod-eu12.eu-central-1.aws.ml.hana.ondemand.com/v2/inference/deployments/dcf97822fc795ac1/embeddings?api-version=2023-09-01-preview \"HTTP/1.1 200 OK\"\n",
      "INFO:httpx:HTTP Request: POST https://api.ai.intprod-eu12.eu-central-1.aws.ml.hana.ondemand.com/v2/inference/deployments/dcf97822fc795ac1/embeddings?api-version=2023-09-01-preview \"HTTP/1.1 200 OK\"\n",
      "HTTP Request: POST https://api.ai.intprod-eu12.eu-central-1.aws.ml.hana.ondemand.com/v2/inference/deployments/dcf97822fc795ac1/embeddings?api-version=2023-09-01-preview \"HTTP/1.1 200 OK\"\n",
      "INFO:httpx:HTTP Request: POST https://api.ai.intprod-eu12.eu-central-1.aws.ml.hana.ondemand.com/v2/inference/deployments/dcf97822fc795ac1/embeddings?api-version=2023-09-01-preview \"HTTP/1.1 200 OK\"\n",
      "HTTP Request: POST https://api.ai.intprod-eu12.eu-central-1.aws.ml.hana.ondemand.com/v2/inference/deployments/dcf97822fc795ac1/embeddings?api-version=2023-09-01-preview \"HTTP/1.1 200 OK\"\n",
      "INFO:httpx:HTTP Request: POST https://api.ai.intprod-eu12.eu-central-1.aws.ml.hana.ondemand.com/v2/inference/deployments/dcf97822fc795ac1/embeddings?api-version=2023-09-01-preview \"HTTP/1.1 200 OK\"\n",
      "HTTP Request: POST https://api.ai.intprod-eu12.eu-central-1.aws.ml.hana.ondemand.com/v2/inference/deployments/dcf97822fc795ac1/embeddings?api-version=2023-09-01-preview \"HTTP/1.1 200 OK\"\n",
      "INFO:httpx:HTTP Request: POST https://api.ai.intprod-eu12.eu-central-1.aws.ml.hana.ondemand.com/v2/inference/deployments/dcf97822fc795ac1/embeddings?api-version=2023-09-01-preview \"HTTP/1.1 200 OK\"\n",
      "HTTP Request: POST https://api.ai.intprod-eu12.eu-central-1.aws.ml.hana.ondemand.com/v2/inference/deployments/dcf97822fc795ac1/embeddings?api-version=2023-09-01-preview \"HTTP/1.1 200 OK\"\n",
      "INFO:httpx:HTTP Request: POST https://api.ai.intprod-eu12.eu-central-1.aws.ml.hana.ondemand.com/v2/inference/deployments/dcf97822fc795ac1/embeddings?api-version=2023-09-01-preview \"HTTP/1.1 200 OK\"\n",
      "HTTP Request: POST https://api.ai.intprod-eu12.eu-central-1.aws.ml.hana.ondemand.com/v2/inference/deployments/dcf97822fc795ac1/embeddings?api-version=2023-09-01-preview \"HTTP/1.1 200 OK\"\n",
      "INFO:httpx:HTTP Request: POST https://api.ai.intprod-eu12.eu-central-1.aws.ml.hana.ondemand.com/v2/inference/deployments/dcf97822fc795ac1/embeddings?api-version=2023-09-01-preview \"HTTP/1.1 200 OK\"\n",
      "HTTP Request: POST https://api.ai.intprod-eu12.eu-central-1.aws.ml.hana.ondemand.com/v2/inference/deployments/dcf97822fc795ac1/embeddings?api-version=2023-09-01-preview \"HTTP/1.1 200 OK\"\n",
      "INFO:httpx:HTTP Request: POST https://api.ai.intprod-eu12.eu-central-1.aws.ml.hana.ondemand.com/v2/inference/deployments/dcf97822fc795ac1/embeddings?api-version=2023-09-01-preview \"HTTP/1.1 200 OK\"\n",
      "HTTP Request: POST https://api.ai.intprod-eu12.eu-central-1.aws.ml.hana.ondemand.com/v2/inference/deployments/dcf97822fc795ac1/embeddings?api-version=2023-09-01-preview \"HTTP/1.1 200 OK\"\n",
      "INFO:httpx:HTTP Request: POST https://api.ai.intprod-eu12.eu-central-1.aws.ml.hana.ondemand.com/v2/inference/deployments/dcf97822fc795ac1/embeddings?api-version=2023-09-01-preview \"HTTP/1.1 200 OK\"\n",
      "HTTP Request: POST https://api.ai.intprod-eu12.eu-central-1.aws.ml.hana.ondemand.com/v2/inference/deployments/dcf97822fc795ac1/embeddings?api-version=2023-09-01-preview \"HTTP/1.1 200 OK\"\n",
      "INFO:httpx:HTTP Request: POST https://api.ai.intprod-eu12.eu-central-1.aws.ml.hana.ondemand.com/v2/inference/deployments/dcf97822fc795ac1/embeddings?api-version=2023-09-01-preview \"HTTP/1.1 200 OK\"\n",
      "HTTP Request: POST https://api.ai.intprod-eu12.eu-central-1.aws.ml.hana.ondemand.com/v2/inference/deployments/dcf97822fc795ac1/embeddings?api-version=2023-09-01-preview \"HTTP/1.1 200 OK\"\n",
      "INFO:httpx:HTTP Request: POST https://api.ai.intprod-eu12.eu-central-1.aws.ml.hana.ondemand.com/v2/inference/deployments/dcf97822fc795ac1/embeddings?api-version=2023-09-01-preview \"HTTP/1.1 200 OK\"\n",
      "HTTP Request: POST https://api.ai.intprod-eu12.eu-central-1.aws.ml.hana.ondemand.com/v2/inference/deployments/dcf97822fc795ac1/embeddings?api-version=2023-09-01-preview \"HTTP/1.1 200 OK\"\n",
      "INFO:httpx:HTTP Request: POST https://api.ai.intprod-eu12.eu-central-1.aws.ml.hana.ondemand.com/v2/inference/deployments/dcf97822fc795ac1/embeddings?api-version=2023-09-01-preview \"HTTP/1.1 200 OK\"\n",
      "HTTP Request: POST https://api.ai.intprod-eu12.eu-central-1.aws.ml.hana.ondemand.com/v2/inference/deployments/dcf97822fc795ac1/embeddings?api-version=2023-09-01-preview \"HTTP/1.1 200 OK\"\n",
      "INFO:httpx:HTTP Request: POST https://api.ai.intprod-eu12.eu-central-1.aws.ml.hana.ondemand.com/v2/inference/deployments/dcf97822fc795ac1/embeddings?api-version=2023-09-01-preview \"HTTP/1.1 200 OK\"\n"
     ]
    },
    {
     "name": "stdout",
     "output_type": "stream",
     "text": [
      "HTTP Request: POST https://api.ai.intprod-eu12.eu-central-1.aws.ml.hana.ondemand.com/v2/inference/deployments/dcf97822fc795ac1/embeddings?api-version=2023-09-01-preview \"HTTP/1.1 200 OK\"\n",
      "INFO:httpx:HTTP Request: POST https://api.ai.intprod-eu12.eu-central-1.aws.ml.hana.ondemand.com/v2/inference/deployments/dcf97822fc795ac1/embeddings?api-version=2023-09-01-preview \"HTTP/1.1 200 OK\"\n",
      "HTTP Request: POST https://api.ai.intprod-eu12.eu-central-1.aws.ml.hana.ondemand.com/v2/inference/deployments/dcf97822fc795ac1/embeddings?api-version=2023-09-01-preview \"HTTP/1.1 200 OK\"\n",
      "INFO:httpx:HTTP Request: POST https://api.ai.intprod-eu12.eu-central-1.aws.ml.hana.ondemand.com/v2/inference/deployments/dcf97822fc795ac1/embeddings?api-version=2023-09-01-preview \"HTTP/1.1 200 OK\"\n",
      "HTTP Request: POST https://api.ai.intprod-eu12.eu-central-1.aws.ml.hana.ondemand.com/v2/inference/deployments/dcf97822fc795ac1/embeddings?api-version=2023-09-01-preview \"HTTP/1.1 200 OK\"\n",
      "INFO:httpx:HTTP Request: POST https://api.ai.intprod-eu12.eu-central-1.aws.ml.hana.ondemand.com/v2/inference/deployments/dcf97822fc795ac1/embeddings?api-version=2023-09-01-preview \"HTTP/1.1 200 OK\"\n",
      "HTTP Request: POST https://api.ai.intprod-eu12.eu-central-1.aws.ml.hana.ondemand.com/v2/inference/deployments/dcf97822fc795ac1/embeddings?api-version=2023-09-01-preview \"HTTP/1.1 200 OK\"\n",
      "INFO:httpx:HTTP Request: POST https://api.ai.intprod-eu12.eu-central-1.aws.ml.hana.ondemand.com/v2/inference/deployments/dcf97822fc795ac1/embeddings?api-version=2023-09-01-preview \"HTTP/1.1 200 OK\"\n",
      "HTTP Request: POST https://api.ai.intprod-eu12.eu-central-1.aws.ml.hana.ondemand.com/v2/inference/deployments/dcf97822fc795ac1/embeddings?api-version=2023-09-01-preview \"HTTP/1.1 200 OK\"\n",
      "INFO:httpx:HTTP Request: POST https://api.ai.intprod-eu12.eu-central-1.aws.ml.hana.ondemand.com/v2/inference/deployments/dcf97822fc795ac1/embeddings?api-version=2023-09-01-preview \"HTTP/1.1 200 OK\"\n",
      "HTTP Request: POST https://api.ai.intprod-eu12.eu-central-1.aws.ml.hana.ondemand.com/v2/inference/deployments/dcf97822fc795ac1/embeddings?api-version=2023-09-01-preview \"HTTP/1.1 200 OK\"\n",
      "INFO:httpx:HTTP Request: POST https://api.ai.intprod-eu12.eu-central-1.aws.ml.hana.ondemand.com/v2/inference/deployments/dcf97822fc795ac1/embeddings?api-version=2023-09-01-preview \"HTTP/1.1 200 OK\"\n",
      "HTTP Request: POST https://api.ai.intprod-eu12.eu-central-1.aws.ml.hana.ondemand.com/v2/inference/deployments/dcf97822fc795ac1/embeddings?api-version=2023-09-01-preview \"HTTP/1.1 200 OK\"\n",
      "INFO:httpx:HTTP Request: POST https://api.ai.intprod-eu12.eu-central-1.aws.ml.hana.ondemand.com/v2/inference/deployments/dcf97822fc795ac1/embeddings?api-version=2023-09-01-preview \"HTTP/1.1 200 OK\"\n",
      "HTTP Request: POST https://api.ai.intprod-eu12.eu-central-1.aws.ml.hana.ondemand.com/v2/inference/deployments/dcf97822fc795ac1/embeddings?api-version=2023-09-01-preview \"HTTP/1.1 200 OK\"\n",
      "INFO:httpx:HTTP Request: POST https://api.ai.intprod-eu12.eu-central-1.aws.ml.hana.ondemand.com/v2/inference/deployments/dcf97822fc795ac1/embeddings?api-version=2023-09-01-preview \"HTTP/1.1 200 OK\"\n",
      "HTTP Request: POST https://api.ai.intprod-eu12.eu-central-1.aws.ml.hana.ondemand.com/v2/inference/deployments/dcf97822fc795ac1/embeddings?api-version=2023-09-01-preview \"HTTP/1.1 200 OK\"\n",
      "INFO:httpx:HTTP Request: POST https://api.ai.intprod-eu12.eu-central-1.aws.ml.hana.ondemand.com/v2/inference/deployments/dcf97822fc795ac1/embeddings?api-version=2023-09-01-preview \"HTTP/1.1 200 OK\"\n",
      "HTTP Request: POST https://api.ai.intprod-eu12.eu-central-1.aws.ml.hana.ondemand.com/v2/inference/deployments/dcf97822fc795ac1/embeddings?api-version=2023-09-01-preview \"HTTP/1.1 200 OK\"\n",
      "INFO:httpx:HTTP Request: POST https://api.ai.intprod-eu12.eu-central-1.aws.ml.hana.ondemand.com/v2/inference/deployments/dcf97822fc795ac1/embeddings?api-version=2023-09-01-preview \"HTTP/1.1 200 OK\"\n",
      "HTTP Request: POST https://api.ai.intprod-eu12.eu-central-1.aws.ml.hana.ondemand.com/v2/inference/deployments/dcf97822fc795ac1/embeddings?api-version=2023-09-01-preview \"HTTP/1.1 200 OK\"\n",
      "INFO:httpx:HTTP Request: POST https://api.ai.intprod-eu12.eu-central-1.aws.ml.hana.ondemand.com/v2/inference/deployments/dcf97822fc795ac1/embeddings?api-version=2023-09-01-preview \"HTTP/1.1 200 OK\"\n",
      "HTTP Request: POST https://api.ai.intprod-eu12.eu-central-1.aws.ml.hana.ondemand.com/v2/inference/deployments/dcf97822fc795ac1/embeddings?api-version=2023-09-01-preview \"HTTP/1.1 200 OK\"\n"
     ]
    },
    {
     "data": {
      "text/plain": [
       "[['7', '202204_Pledge_to_Flex_Global_FAQ.pdf', 'global'],\n",
       " ['2', '202204_Pledge_to_Flex_Global_FAQ.pdf', 'global'],\n",
       " ['8', '202204_Pledge_to_Flex_Global_FAQ.pdf', 'global'],\n",
       " ['9', '202204_Pledge_to_Flex_Global_FAQ.pdf', 'global'],\n",
       " ['9', '202204_Pledge_to_Flex_Global_FAQ.pdf', 'global'],\n",
       " ['4', '202204_Pledge_to_Flex_Global_FAQ.pdf', 'global'],\n",
       " ['4', '202204_Pledge_to_Flex_Global_FAQ.pdf', 'global'],\n",
       " ['1', '202204_Pledge_to_Flex_Global_FAQ.pdf', 'global'],\n",
       " ['12', '202204_Pledge_to_Flex_Global_FAQ.pdf', 'global'],\n",
       " ['10', '202204_Pledge_to_Flex_Global_FAQ.pdf', 'global']]"
      ]
     },
     "execution_count": 75,
     "metadata": {},
     "output_type": "execute_result"
    }
   ],
   "source": [
    "from llama_index.core.vector_stores import (\n",
    "    MetadataFilter,\n",
    "    MetadataFilters,\n",
    "    FilterOperator,\n",
    ")\n",
    "\n",
    "filters = MetadataFilters(\n",
    "    filters=[\n",
    "        MetadataFilter(key=\"file_name\", operator=FilterOperator.EQ, value=\"202204_Pledge_to_Flex_Global_FAQ.pdf\"),\n",
    "    ]\n",
    ")\n",
    "\n",
    "index= VectorStoreIndex(nodes_list,storage_context,embed_model=llama_emb)\n",
    "#context[0].node.text"
   ]
  },
  {
   "cell_type": "code",
   "execution_count": 56,
   "id": "de0c28b2",
   "metadata": {
    "scrolled": false
   },
   "outputs": [
    {
     "name": "stdout",
     "output_type": "stream",
     "text": [
      "INFO:httpx:HTTP Request: POST https://api.ai.intprod-eu12.eu-central-1.aws.ml.hana.ondemand.com/v2/inference/deployments/dcf97822fc795ac1/embeddings?api-version=2023-09-01-preview \"HTTP/1.1 200 OK\"\n",
      "HTTP Request: POST https://api.ai.intprod-eu12.eu-central-1.aws.ml.hana.ondemand.com/v2/inference/deployments/dcf97822fc795ac1/embeddings?api-version=2023-09-01-preview \"HTTP/1.1 200 OK\"\n"
     ]
    },
    {
     "data": {
      "text/plain": [
       "[['7', '202204_Pledge_to_Flex_Global_FAQ.pdf', 'global'],\n",
       " ['2', '202204_Pledge_to_Flex_Global_FAQ.pdf', 'global'],\n",
       " ['8', '202204_Pledge_to_Flex_Global_FAQ.pdf', 'global'],\n",
       " ['9', '202204_Pledge_to_Flex_Global_FAQ.pdf', 'global'],\n",
       " ['9', '202204_Pledge_to_Flex_Global_FAQ.pdf', 'global'],\n",
       " ['4', '202204_Pledge_to_Flex_Global_FAQ.pdf', 'global'],\n",
       " ['4', '202204_Pledge_to_Flex_Global_FAQ.pdf', 'global'],\n",
       " ['1', '202204_Pledge_to_Flex_Global_FAQ.pdf', 'global'],\n",
       " ['12', '202204_Pledge_to_Flex_Global_FAQ.pdf', 'global'],\n",
       " ['10', '202204_Pledge_to_Flex_Global_FAQ.pdf', 'global']]"
      ]
     },
     "execution_count": 56,
     "metadata": {},
     "output_type": "execute_result"
    }
   ],
   "source": [
    "query=\"I am facing personal circumstances that might make it challenging for me to follow the evolved hybrid work guidance. What kind of exceptions are available? \"\n",
    "retriever = index.as_retriever(filters=filters, similarity_top_k=10)\n",
    "context=retriever.retrieve(query)\n",
    "ci=[]\n",
    "for c in context:\n",
    "    ci.append([c.node.metadata['page_label'],c.node.metadata['file_name'],c.node.metadata['context']])\n",
    "ci"
   ]
  },
  {
   "cell_type": "code",
   "execution_count": 53,
   "id": "d19c2a8a",
   "metadata": {
    "collapsed": true
   },
   "outputs": [
    {
     "data": {
      "text/plain": [
       "'Exceptions  3.1 I am facing personal circumstances that might make it challenging for me to follow the evolved hybrid work guidance. What kind of exceptions are available?  Rooted in our commitment to align business, customer, and employee needs, we are empowering managers to find the right solutions together with their teams, supported by defined guardrails. At a global policy level, employees may be partially or fully exempt from the three-days-a-week in-office requirement for the following scenarios:  • Existing legally binding agreements remain valid, e.g., employees contractually entitled to work remotely for more than two days a week.  • Part-time employees can adjust their in-office days proportionally to their contract hours. • Employees requiring a different setup because of permanent specific needs, e.g., disability, neurodivergent conditions, or long-term health / medical conditions, will be accommodated.  • Managers may grant temporary exceptions for personal reasons such as caregiving or temporary medical reasons for a total of up to four months within a 12-month period. • In addition, SAP’s local management can initiate temporary exceptions in specific situations, such as office construction or office space expansion initiatives under way. Proven hybrid work elements such as working in the office in the morning and then from home in the afternoon continue to be available subject to local regulations.   3.2 I have long-term/permanent reasons hindering me to come to the office three times a week. How should I proceed? SAP aims to create an inclusive workplace where our people feel supported and are enabled to thrive. Therefore, the three-day-in-office attendance will not be required for employees in need of a different setup because of permanent specific needs, e.g., disability, neurodivergent conditions, or long-term health / medical conditions, in alignment with their local regulations.   '"
      ]
     },
     "execution_count": 53,
     "metadata": {},
     "output_type": "execute_result"
    }
   ],
   "source": [
    "context[0].node.text"
   ]
  },
  {
   "cell_type": "markdown",
   "id": "2dd15a72",
   "metadata": {},
   "source": [
    "###  Baseline - Assuming no strict filtering for this use case as both are HR policy document"
   ]
  },
  {
   "cell_type": "code",
   "execution_count": 76,
   "id": "730144d2",
   "metadata": {
    "scrolled": false
   },
   "outputs": [
    {
     "name": "stdout",
     "output_type": "stream",
     "text": [
      "INFO:httpx:HTTP Request: POST https://api.ai.intprod-eu12.eu-central-1.aws.ml.hana.ondemand.com/v2/inference/deployments/dcf97822fc795ac1/embeddings?api-version=2023-09-01-preview \"HTTP/1.1 200 OK\"\n",
      "HTTP Request: POST https://api.ai.intprod-eu12.eu-central-1.aws.ml.hana.ondemand.com/v2/inference/deployments/dcf97822fc795ac1/embeddings?api-version=2023-09-01-preview \"HTTP/1.1 200 OK\"\n"
     ]
    },
    {
     "data": {
      "text/plain": [
       "[['7', '202204_Pledge_to_Flex_Global_FAQ.pdf', 'global'],\n",
       " ['2', '202204_Pledge_to_Flex_Global_FAQ.pdf', 'global'],\n",
       " ['3', 'US Flex Work FAQs.pdf', 'US'],\n",
       " ['8', '202204_Pledge_to_Flex_Global_FAQ.pdf', 'global'],\n",
       " ['9', '202204_Pledge_to_Flex_Global_FAQ.pdf', 'global'],\n",
       " ['9', '202204_Pledge_to_Flex_Global_FAQ.pdf', 'global'],\n",
       " ['4', '202204_Pledge_to_Flex_Global_FAQ.pdf', 'global'],\n",
       " ['4', '202204_Pledge_to_Flex_Global_FAQ.pdf', 'global'],\n",
       " ['1', '202204_Pledge_to_Flex_Global_FAQ.pdf', 'global'],\n",
       " ['7', 'US Flex Work FAQs.pdf', 'US']]"
      ]
     },
     "execution_count": 76,
     "metadata": {},
     "output_type": "execute_result"
    }
   ],
   "source": [
    "retriever = index.as_retriever(similarity_top_k=10)\n",
    "\n",
    "context=retriever.retrieve(query)\n",
    "ci=[]\n",
    "for c in context:\n",
    "    ci.append([c.node.metadata['page_label'],c.node.metadata['file_name'],c.node.metadata['context']])\n",
    "ci\n",
    "#context[2].node.text"
   ]
  },
  {
   "cell_type": "markdown",
   "id": "c87e2d17",
   "metadata": {},
   "source": [
    "### 2 US chunks are in the top 10 and the first one is at the 3rd place!!"
   ]
  },
  {
   "cell_type": "markdown",
   "id": "4b31a943",
   "metadata": {},
   "source": [
    "## ADR#1  Non-Strict Meta-data [US | Global] filtering using embedding search"
   ]
  },
  {
   "cell_type": "markdown",
   "id": "2915d2cf",
   "metadata": {},
   "source": [
    "In this approach the query along with the nonStrictMetadataFilter is embedded followed by an Embedding Search.\n",
    "\n",
    "The stored embeddings in the Vector database represent the chunk along with the metadata.- Metadata is embedded along with the document"
   ]
  },
  {
   "cell_type": "markdown",
   "id": "01a26385",
   "metadata": {},
   "source": [
    "###### Embedding document & non strict meta-data "
   ]
  },
  {
   "cell_type": "code",
   "execution_count": 83,
   "id": "96a62d85",
   "metadata": {},
   "outputs": [],
   "source": [
    "from llama_index.core import Document\n",
    "Lama_doc=[]\n",
    "\n",
    "for node in nodes_list:\n",
    "    non_strict_metadata = node.metadata[\"context\"]\n",
    "    Lama_doc.append(Document(text=node.text+non_strict_metadata,metadata = node.metadata))"
   ]
  },
  {
   "cell_type": "code",
   "execution_count": 103,
   "id": "e39d2c66",
   "metadata": {
    "collapsed": true
   },
   "outputs": [
    {
     "name": "stdout",
     "output_type": "stream",
     "text": [
      "page_label: 4\n",
      "file_name: 202204_Pledge_to_Flex_Global_FAQ.pdf\n",
      "file_path: 202204_Pledge_to_Flex_Global_FAQ.pdf\n",
      "file_type: application/pdf\n",
      "file_size: 578756\n",
      "creation_date: 2024-07-07\n",
      "last_modified_date: 2024-07-07\n",
      "context: global\n",
      "\n",
      "See Legal Notice on www.sap.com/legal-notice for use terms, disclaimers, disclosures, or restrictions related to this material. 4 / 12 Based on your personal working preferences, you can of course also work more than three days per week from the oﬃce depending on local circumstances. For more information about ﬂex work in your location, please have a look at your local portal page.  1.4 Are there any exceptions? While the new evolved hybrid work guidance applies to all employees globally, we acknowledge that certain situations may require temporary exceptions. In line with our global exception framework, the locally managed evolved hybrid work model offers a practical, people-centered exception handling considering business requirements, local labor law, policies, as well as the feedback you shared with us.  While the local follow-up communication provides all employees with further specifics, there are certain scenarios where employees may be partially or fully exempt from the three-days-a-week-in-office rule. For more information, please see section 3. of this document.   global\n"
     ]
    }
   ],
   "source": [
    "from llama_index.core.node_parser import SentenceSplitter\n",
    "node_parser = SentenceSplitter()\n",
    "nodes_meta=node_parser.get_nodes_from_documents(Lama_doc)\n",
    "print(nodes_meta[10].get_content(metadata_mode=\"all\"))"
   ]
  },
  {
   "cell_type": "code",
   "execution_count": 123,
   "id": "8020afdc",
   "metadata": {
    "collapsed": true
   },
   "outputs": [
    {
     "name": "stdout",
     "output_type": "stream",
     "text": [
      "INFO:httpx:HTTP Request: POST https://api.ai.intprod-eu12.eu-central-1.aws.ml.hana.ondemand.com/v2/inference/deployments/dcf97822fc795ac1/embeddings?api-version=2023-09-01-preview \"HTTP/1.1 200 OK\"\n",
      "HTTP Request: POST https://api.ai.intprod-eu12.eu-central-1.aws.ml.hana.ondemand.com/v2/inference/deployments/dcf97822fc795ac1/embeddings?api-version=2023-09-01-preview \"HTTP/1.1 200 OK\"\n",
      "INFO:httpx:HTTP Request: POST https://api.ai.intprod-eu12.eu-central-1.aws.ml.hana.ondemand.com/v2/inference/deployments/dcf97822fc795ac1/embeddings?api-version=2023-09-01-preview \"HTTP/1.1 200 OK\"\n",
      "HTTP Request: POST https://api.ai.intprod-eu12.eu-central-1.aws.ml.hana.ondemand.com/v2/inference/deployments/dcf97822fc795ac1/embeddings?api-version=2023-09-01-preview \"HTTP/1.1 200 OK\"\n",
      "INFO:httpx:HTTP Request: POST https://api.ai.intprod-eu12.eu-central-1.aws.ml.hana.ondemand.com/v2/inference/deployments/dcf97822fc795ac1/embeddings?api-version=2023-09-01-preview \"HTTP/1.1 200 OK\"\n",
      "HTTP Request: POST https://api.ai.intprod-eu12.eu-central-1.aws.ml.hana.ondemand.com/v2/inference/deployments/dcf97822fc795ac1/embeddings?api-version=2023-09-01-preview \"HTTP/1.1 200 OK\"\n",
      "INFO:httpx:HTTP Request: POST https://api.ai.intprod-eu12.eu-central-1.aws.ml.hana.ondemand.com/v2/inference/deployments/dcf97822fc795ac1/embeddings?api-version=2023-09-01-preview \"HTTP/1.1 200 OK\"\n",
      "HTTP Request: POST https://api.ai.intprod-eu12.eu-central-1.aws.ml.hana.ondemand.com/v2/inference/deployments/dcf97822fc795ac1/embeddings?api-version=2023-09-01-preview \"HTTP/1.1 200 OK\"\n",
      "INFO:httpx:HTTP Request: POST https://api.ai.intprod-eu12.eu-central-1.aws.ml.hana.ondemand.com/v2/inference/deployments/dcf97822fc795ac1/embeddings?api-version=2023-09-01-preview \"HTTP/1.1 200 OK\"\n",
      "HTTP Request: POST https://api.ai.intprod-eu12.eu-central-1.aws.ml.hana.ondemand.com/v2/inference/deployments/dcf97822fc795ac1/embeddings?api-version=2023-09-01-preview \"HTTP/1.1 200 OK\"\n",
      "INFO:httpx:HTTP Request: POST https://api.ai.intprod-eu12.eu-central-1.aws.ml.hana.ondemand.com/v2/inference/deployments/dcf97822fc795ac1/embeddings?api-version=2023-09-01-preview \"HTTP/1.1 200 OK\"\n",
      "HTTP Request: POST https://api.ai.intprod-eu12.eu-central-1.aws.ml.hana.ondemand.com/v2/inference/deployments/dcf97822fc795ac1/embeddings?api-version=2023-09-01-preview \"HTTP/1.1 200 OK\"\n",
      "INFO:httpx:HTTP Request: POST https://api.ai.intprod-eu12.eu-central-1.aws.ml.hana.ondemand.com/v2/inference/deployments/dcf97822fc795ac1/embeddings?api-version=2023-09-01-preview \"HTTP/1.1 200 OK\"\n",
      "HTTP Request: POST https://api.ai.intprod-eu12.eu-central-1.aws.ml.hana.ondemand.com/v2/inference/deployments/dcf97822fc795ac1/embeddings?api-version=2023-09-01-preview \"HTTP/1.1 200 OK\"\n",
      "INFO:httpx:HTTP Request: POST https://api.ai.intprod-eu12.eu-central-1.aws.ml.hana.ondemand.com/v2/inference/deployments/dcf97822fc795ac1/embeddings?api-version=2023-09-01-preview \"HTTP/1.1 200 OK\"\n",
      "HTTP Request: POST https://api.ai.intprod-eu12.eu-central-1.aws.ml.hana.ondemand.com/v2/inference/deployments/dcf97822fc795ac1/embeddings?api-version=2023-09-01-preview \"HTTP/1.1 200 OK\"\n",
      "INFO:httpx:HTTP Request: POST https://api.ai.intprod-eu12.eu-central-1.aws.ml.hana.ondemand.com/v2/inference/deployments/dcf97822fc795ac1/embeddings?api-version=2023-09-01-preview \"HTTP/1.1 200 OK\"\n",
      "HTTP Request: POST https://api.ai.intprod-eu12.eu-central-1.aws.ml.hana.ondemand.com/v2/inference/deployments/dcf97822fc795ac1/embeddings?api-version=2023-09-01-preview \"HTTP/1.1 200 OK\"\n",
      "INFO:httpx:HTTP Request: POST https://api.ai.intprod-eu12.eu-central-1.aws.ml.hana.ondemand.com/v2/inference/deployments/dcf97822fc795ac1/embeddings?api-version=2023-09-01-preview \"HTTP/1.1 200 OK\"\n",
      "HTTP Request: POST https://api.ai.intprod-eu12.eu-central-1.aws.ml.hana.ondemand.com/v2/inference/deployments/dcf97822fc795ac1/embeddings?api-version=2023-09-01-preview \"HTTP/1.1 200 OK\"\n",
      "INFO:httpx:HTTP Request: POST https://api.ai.intprod-eu12.eu-central-1.aws.ml.hana.ondemand.com/v2/inference/deployments/dcf97822fc795ac1/embeddings?api-version=2023-09-01-preview \"HTTP/1.1 200 OK\"\n",
      "HTTP Request: POST https://api.ai.intprod-eu12.eu-central-1.aws.ml.hana.ondemand.com/v2/inference/deployments/dcf97822fc795ac1/embeddings?api-version=2023-09-01-preview \"HTTP/1.1 200 OK\"\n",
      "INFO:httpx:HTTP Request: POST https://api.ai.intprod-eu12.eu-central-1.aws.ml.hana.ondemand.com/v2/inference/deployments/dcf97822fc795ac1/embeddings?api-version=2023-09-01-preview \"HTTP/1.1 200 OK\"\n",
      "HTTP Request: POST https://api.ai.intprod-eu12.eu-central-1.aws.ml.hana.ondemand.com/v2/inference/deployments/dcf97822fc795ac1/embeddings?api-version=2023-09-01-preview \"HTTP/1.1 200 OK\"\n",
      "INFO:httpx:HTTP Request: POST https://api.ai.intprod-eu12.eu-central-1.aws.ml.hana.ondemand.com/v2/inference/deployments/dcf97822fc795ac1/embeddings?api-version=2023-09-01-preview \"HTTP/1.1 200 OK\"\n",
      "HTTP Request: POST https://api.ai.intprod-eu12.eu-central-1.aws.ml.hana.ondemand.com/v2/inference/deployments/dcf97822fc795ac1/embeddings?api-version=2023-09-01-preview \"HTTP/1.1 200 OK\"\n",
      "INFO:httpx:HTTP Request: POST https://api.ai.intprod-eu12.eu-central-1.aws.ml.hana.ondemand.com/v2/inference/deployments/dcf97822fc795ac1/embeddings?api-version=2023-09-01-preview \"HTTP/1.1 200 OK\"\n",
      "HTTP Request: POST https://api.ai.intprod-eu12.eu-central-1.aws.ml.hana.ondemand.com/v2/inference/deployments/dcf97822fc795ac1/embeddings?api-version=2023-09-01-preview \"HTTP/1.1 200 OK\"\n",
      "INFO:httpx:HTTP Request: POST https://api.ai.intprod-eu12.eu-central-1.aws.ml.hana.ondemand.com/v2/inference/deployments/dcf97822fc795ac1/embeddings?api-version=2023-09-01-preview \"HTTP/1.1 200 OK\"\n",
      "HTTP Request: POST https://api.ai.intprod-eu12.eu-central-1.aws.ml.hana.ondemand.com/v2/inference/deployments/dcf97822fc795ac1/embeddings?api-version=2023-09-01-preview \"HTTP/1.1 200 OK\"\n",
      "INFO:httpx:HTTP Request: POST https://api.ai.intprod-eu12.eu-central-1.aws.ml.hana.ondemand.com/v2/inference/deployments/dcf97822fc795ac1/embeddings?api-version=2023-09-01-preview \"HTTP/1.1 200 OK\"\n",
      "HTTP Request: POST https://api.ai.intprod-eu12.eu-central-1.aws.ml.hana.ondemand.com/v2/inference/deployments/dcf97822fc795ac1/embeddings?api-version=2023-09-01-preview \"HTTP/1.1 200 OK\"\n",
      "INFO:httpx:HTTP Request: POST https://api.ai.intprod-eu12.eu-central-1.aws.ml.hana.ondemand.com/v2/inference/deployments/dcf97822fc795ac1/embeddings?api-version=2023-09-01-preview \"HTTP/1.1 200 OK\"\n",
      "HTTP Request: POST https://api.ai.intprod-eu12.eu-central-1.aws.ml.hana.ondemand.com/v2/inference/deployments/dcf97822fc795ac1/embeddings?api-version=2023-09-01-preview \"HTTP/1.1 200 OK\"\n",
      "INFO:httpx:HTTP Request: POST https://api.ai.intprod-eu12.eu-central-1.aws.ml.hana.ondemand.com/v2/inference/deployments/dcf97822fc795ac1/embeddings?api-version=2023-09-01-preview \"HTTP/1.1 200 OK\"\n",
      "HTTP Request: POST https://api.ai.intprod-eu12.eu-central-1.aws.ml.hana.ondemand.com/v2/inference/deployments/dcf97822fc795ac1/embeddings?api-version=2023-09-01-preview \"HTTP/1.1 200 OK\"\n",
      "INFO:httpx:HTTP Request: POST https://api.ai.intprod-eu12.eu-central-1.aws.ml.hana.ondemand.com/v2/inference/deployments/dcf97822fc795ac1/embeddings?api-version=2023-09-01-preview \"HTTP/1.1 200 OK\"\n",
      "HTTP Request: POST https://api.ai.intprod-eu12.eu-central-1.aws.ml.hana.ondemand.com/v2/inference/deployments/dcf97822fc795ac1/embeddings?api-version=2023-09-01-preview \"HTTP/1.1 200 OK\"\n",
      "INFO:httpx:HTTP Request: POST https://api.ai.intprod-eu12.eu-central-1.aws.ml.hana.ondemand.com/v2/inference/deployments/dcf97822fc795ac1/embeddings?api-version=2023-09-01-preview \"HTTP/1.1 200 OK\"\n",
      "HTTP Request: POST https://api.ai.intprod-eu12.eu-central-1.aws.ml.hana.ondemand.com/v2/inference/deployments/dcf97822fc795ac1/embeddings?api-version=2023-09-01-preview \"HTTP/1.1 200 OK\"\n",
      "INFO:httpx:HTTP Request: POST https://api.ai.intprod-eu12.eu-central-1.aws.ml.hana.ondemand.com/v2/inference/deployments/dcf97822fc795ac1/embeddings?api-version=2023-09-01-preview \"HTTP/1.1 200 OK\"\n",
      "HTTP Request: POST https://api.ai.intprod-eu12.eu-central-1.aws.ml.hana.ondemand.com/v2/inference/deployments/dcf97822fc795ac1/embeddings?api-version=2023-09-01-preview \"HTTP/1.1 200 OK\"\n",
      "INFO:httpx:HTTP Request: POST https://api.ai.intprod-eu12.eu-central-1.aws.ml.hana.ondemand.com/v2/inference/deployments/dcf97822fc795ac1/embeddings?api-version=2023-09-01-preview \"HTTP/1.1 200 OK\"\n"
     ]
    },
    {
     "name": "stdout",
     "output_type": "stream",
     "text": [
      "HTTP Request: POST https://api.ai.intprod-eu12.eu-central-1.aws.ml.hana.ondemand.com/v2/inference/deployments/dcf97822fc795ac1/embeddings?api-version=2023-09-01-preview \"HTTP/1.1 200 OK\"\n",
      "INFO:httpx:HTTP Request: POST https://api.ai.intprod-eu12.eu-central-1.aws.ml.hana.ondemand.com/v2/inference/deployments/dcf97822fc795ac1/embeddings?api-version=2023-09-01-preview \"HTTP/1.1 200 OK\"\n",
      "HTTP Request: POST https://api.ai.intprod-eu12.eu-central-1.aws.ml.hana.ondemand.com/v2/inference/deployments/dcf97822fc795ac1/embeddings?api-version=2023-09-01-preview \"HTTP/1.1 200 OK\"\n",
      "INFO:httpx:HTTP Request: POST https://api.ai.intprod-eu12.eu-central-1.aws.ml.hana.ondemand.com/v2/inference/deployments/dcf97822fc795ac1/embeddings?api-version=2023-09-01-preview \"HTTP/1.1 200 OK\"\n",
      "HTTP Request: POST https://api.ai.intprod-eu12.eu-central-1.aws.ml.hana.ondemand.com/v2/inference/deployments/dcf97822fc795ac1/embeddings?api-version=2023-09-01-preview \"HTTP/1.1 200 OK\"\n",
      "INFO:httpx:HTTP Request: POST https://api.ai.intprod-eu12.eu-central-1.aws.ml.hana.ondemand.com/v2/inference/deployments/dcf97822fc795ac1/embeddings?api-version=2023-09-01-preview \"HTTP/1.1 200 OK\"\n",
      "HTTP Request: POST https://api.ai.intprod-eu12.eu-central-1.aws.ml.hana.ondemand.com/v2/inference/deployments/dcf97822fc795ac1/embeddings?api-version=2023-09-01-preview \"HTTP/1.1 200 OK\"\n",
      "INFO:httpx:HTTP Request: POST https://api.ai.intprod-eu12.eu-central-1.aws.ml.hana.ondemand.com/v2/inference/deployments/dcf97822fc795ac1/embeddings?api-version=2023-09-01-preview \"HTTP/1.1 200 OK\"\n",
      "HTTP Request: POST https://api.ai.intprod-eu12.eu-central-1.aws.ml.hana.ondemand.com/v2/inference/deployments/dcf97822fc795ac1/embeddings?api-version=2023-09-01-preview \"HTTP/1.1 200 OK\"\n",
      "INFO:httpx:HTTP Request: POST https://api.ai.intprod-eu12.eu-central-1.aws.ml.hana.ondemand.com/v2/inference/deployments/dcf97822fc795ac1/embeddings?api-version=2023-09-01-preview \"HTTP/1.1 200 OK\"\n",
      "HTTP Request: POST https://api.ai.intprod-eu12.eu-central-1.aws.ml.hana.ondemand.com/v2/inference/deployments/dcf97822fc795ac1/embeddings?api-version=2023-09-01-preview \"HTTP/1.1 200 OK\"\n",
      "INFO:httpx:HTTP Request: POST https://api.ai.intprod-eu12.eu-central-1.aws.ml.hana.ondemand.com/v2/inference/deployments/dcf97822fc795ac1/embeddings?api-version=2023-09-01-preview \"HTTP/1.1 200 OK\"\n",
      "HTTP Request: POST https://api.ai.intprod-eu12.eu-central-1.aws.ml.hana.ondemand.com/v2/inference/deployments/dcf97822fc795ac1/embeddings?api-version=2023-09-01-preview \"HTTP/1.1 200 OK\"\n",
      "INFO:httpx:HTTP Request: POST https://api.ai.intprod-eu12.eu-central-1.aws.ml.hana.ondemand.com/v2/inference/deployments/dcf97822fc795ac1/embeddings?api-version=2023-09-01-preview \"HTTP/1.1 200 OK\"\n",
      "HTTP Request: POST https://api.ai.intprod-eu12.eu-central-1.aws.ml.hana.ondemand.com/v2/inference/deployments/dcf97822fc795ac1/embeddings?api-version=2023-09-01-preview \"HTTP/1.1 200 OK\"\n",
      "INFO:httpx:HTTP Request: POST https://api.ai.intprod-eu12.eu-central-1.aws.ml.hana.ondemand.com/v2/inference/deployments/dcf97822fc795ac1/embeddings?api-version=2023-09-01-preview \"HTTP/1.1 200 OK\"\n",
      "HTTP Request: POST https://api.ai.intprod-eu12.eu-central-1.aws.ml.hana.ondemand.com/v2/inference/deployments/dcf97822fc795ac1/embeddings?api-version=2023-09-01-preview \"HTTP/1.1 200 OK\"\n",
      "INFO:httpx:HTTP Request: POST https://api.ai.intprod-eu12.eu-central-1.aws.ml.hana.ondemand.com/v2/inference/deployments/dcf97822fc795ac1/embeddings?api-version=2023-09-01-preview \"HTTP/1.1 200 OK\"\n",
      "HTTP Request: POST https://api.ai.intprod-eu12.eu-central-1.aws.ml.hana.ondemand.com/v2/inference/deployments/dcf97822fc795ac1/embeddings?api-version=2023-09-01-preview \"HTTP/1.1 200 OK\"\n",
      "INFO:httpx:HTTP Request: POST https://api.ai.intprod-eu12.eu-central-1.aws.ml.hana.ondemand.com/v2/inference/deployments/dcf97822fc795ac1/embeddings?api-version=2023-09-01-preview \"HTTP/1.1 200 OK\"\n",
      "HTTP Request: POST https://api.ai.intprod-eu12.eu-central-1.aws.ml.hana.ondemand.com/v2/inference/deployments/dcf97822fc795ac1/embeddings?api-version=2023-09-01-preview \"HTTP/1.1 200 OK\"\n",
      "INFO:httpx:HTTP Request: POST https://api.ai.intprod-eu12.eu-central-1.aws.ml.hana.ondemand.com/v2/inference/deployments/dcf97822fc795ac1/embeddings?api-version=2023-09-01-preview \"HTTP/1.1 200 OK\"\n",
      "HTTP Request: POST https://api.ai.intprod-eu12.eu-central-1.aws.ml.hana.ondemand.com/v2/inference/deployments/dcf97822fc795ac1/embeddings?api-version=2023-09-01-preview \"HTTP/1.1 200 OK\"\n",
      "INFO:httpx:HTTP Request: POST https://api.ai.intprod-eu12.eu-central-1.aws.ml.hana.ondemand.com/v2/inference/deployments/dcf97822fc795ac1/embeddings?api-version=2023-09-01-preview \"HTTP/1.1 200 OK\"\n",
      "HTTP Request: POST https://api.ai.intprod-eu12.eu-central-1.aws.ml.hana.ondemand.com/v2/inference/deployments/dcf97822fc795ac1/embeddings?api-version=2023-09-01-preview \"HTTP/1.1 200 OK\"\n",
      "INFO:httpx:HTTP Request: POST https://api.ai.intprod-eu12.eu-central-1.aws.ml.hana.ondemand.com/v2/inference/deployments/dcf97822fc795ac1/embeddings?api-version=2023-09-01-preview \"HTTP/1.1 200 OK\"\n",
      "HTTP Request: POST https://api.ai.intprod-eu12.eu-central-1.aws.ml.hana.ondemand.com/v2/inference/deployments/dcf97822fc795ac1/embeddings?api-version=2023-09-01-preview \"HTTP/1.1 200 OK\"\n",
      "INFO:httpx:HTTP Request: POST https://api.ai.intprod-eu12.eu-central-1.aws.ml.hana.ondemand.com/v2/inference/deployments/dcf97822fc795ac1/embeddings?api-version=2023-09-01-preview \"HTTP/1.1 200 OK\"\n",
      "HTTP Request: POST https://api.ai.intprod-eu12.eu-central-1.aws.ml.hana.ondemand.com/v2/inference/deployments/dcf97822fc795ac1/embeddings?api-version=2023-09-01-preview \"HTTP/1.1 200 OK\"\n",
      "INFO:httpx:HTTP Request: POST https://api.ai.intprod-eu12.eu-central-1.aws.ml.hana.ondemand.com/v2/inference/deployments/dcf97822fc795ac1/embeddings?api-version=2023-09-01-preview \"HTTP/1.1 200 OK\"\n",
      "HTTP Request: POST https://api.ai.intprod-eu12.eu-central-1.aws.ml.hana.ondemand.com/v2/inference/deployments/dcf97822fc795ac1/embeddings?api-version=2023-09-01-preview \"HTTP/1.1 200 OK\"\n",
      "INFO:httpx:HTTP Request: POST https://api.ai.intprod-eu12.eu-central-1.aws.ml.hana.ondemand.com/v2/inference/deployments/dcf97822fc795ac1/embeddings?api-version=2023-09-01-preview \"HTTP/1.1 200 OK\"\n",
      "HTTP Request: POST https://api.ai.intprod-eu12.eu-central-1.aws.ml.hana.ondemand.com/v2/inference/deployments/dcf97822fc795ac1/embeddings?api-version=2023-09-01-preview \"HTTP/1.1 200 OK\"\n",
      "INFO:httpx:HTTP Request: POST https://api.ai.intprod-eu12.eu-central-1.aws.ml.hana.ondemand.com/v2/inference/deployments/dcf97822fc795ac1/embeddings?api-version=2023-09-01-preview \"HTTP/1.1 200 OK\"\n",
      "HTTP Request: POST https://api.ai.intprod-eu12.eu-central-1.aws.ml.hana.ondemand.com/v2/inference/deployments/dcf97822fc795ac1/embeddings?api-version=2023-09-01-preview \"HTTP/1.1 200 OK\"\n",
      "INFO:httpx:HTTP Request: POST https://api.ai.intprod-eu12.eu-central-1.aws.ml.hana.ondemand.com/v2/inference/deployments/dcf97822fc795ac1/embeddings?api-version=2023-09-01-preview \"HTTP/1.1 200 OK\"\n",
      "HTTP Request: POST https://api.ai.intprod-eu12.eu-central-1.aws.ml.hana.ondemand.com/v2/inference/deployments/dcf97822fc795ac1/embeddings?api-version=2023-09-01-preview \"HTTP/1.1 200 OK\"\n",
      "INFO:httpx:HTTP Request: POST https://api.ai.intprod-eu12.eu-central-1.aws.ml.hana.ondemand.com/v2/inference/deployments/dcf97822fc795ac1/embeddings?api-version=2023-09-01-preview \"HTTP/1.1 200 OK\"\n",
      "HTTP Request: POST https://api.ai.intprod-eu12.eu-central-1.aws.ml.hana.ondemand.com/v2/inference/deployments/dcf97822fc795ac1/embeddings?api-version=2023-09-01-preview \"HTTP/1.1 200 OK\"\n",
      "INFO:httpx:HTTP Request: POST https://api.ai.intprod-eu12.eu-central-1.aws.ml.hana.ondemand.com/v2/inference/deployments/dcf97822fc795ac1/embeddings?api-version=2023-09-01-preview \"HTTP/1.1 200 OK\"\n",
      "HTTP Request: POST https://api.ai.intprod-eu12.eu-central-1.aws.ml.hana.ondemand.com/v2/inference/deployments/dcf97822fc795ac1/embeddings?api-version=2023-09-01-preview \"HTTP/1.1 200 OK\"\n",
      "INFO:httpx:HTTP Request: POST https://api.ai.intprod-eu12.eu-central-1.aws.ml.hana.ondemand.com/v2/inference/deployments/dcf97822fc795ac1/embeddings?api-version=2023-09-01-preview \"HTTP/1.1 200 OK\"\n",
      "HTTP Request: POST https://api.ai.intprod-eu12.eu-central-1.aws.ml.hana.ondemand.com/v2/inference/deployments/dcf97822fc795ac1/embeddings?api-version=2023-09-01-preview \"HTTP/1.1 200 OK\"\n"
     ]
    },
    {
     "name": "stdout",
     "output_type": "stream",
     "text": [
      "INFO:httpx:HTTP Request: POST https://api.ai.intprod-eu12.eu-central-1.aws.ml.hana.ondemand.com/v2/inference/deployments/dcf97822fc795ac1/embeddings?api-version=2023-09-01-preview \"HTTP/1.1 200 OK\"\n",
      "HTTP Request: POST https://api.ai.intprod-eu12.eu-central-1.aws.ml.hana.ondemand.com/v2/inference/deployments/dcf97822fc795ac1/embeddings?api-version=2023-09-01-preview \"HTTP/1.1 200 OK\"\n",
      "INFO:httpx:HTTP Request: POST https://api.ai.intprod-eu12.eu-central-1.aws.ml.hana.ondemand.com/v2/inference/deployments/dcf97822fc795ac1/embeddings?api-version=2023-09-01-preview \"HTTP/1.1 200 OK\"\n",
      "HTTP Request: POST https://api.ai.intprod-eu12.eu-central-1.aws.ml.hana.ondemand.com/v2/inference/deployments/dcf97822fc795ac1/embeddings?api-version=2023-09-01-preview \"HTTP/1.1 200 OK\"\n",
      "INFO:httpx:HTTP Request: POST https://api.ai.intprod-eu12.eu-central-1.aws.ml.hana.ondemand.com/v2/inference/deployments/dcf97822fc795ac1/embeddings?api-version=2023-09-01-preview \"HTTP/1.1 200 OK\"\n",
      "HTTP Request: POST https://api.ai.intprod-eu12.eu-central-1.aws.ml.hana.ondemand.com/v2/inference/deployments/dcf97822fc795ac1/embeddings?api-version=2023-09-01-preview \"HTTP/1.1 200 OK\"\n",
      "INFO:httpx:HTTP Request: POST https://api.ai.intprod-eu12.eu-central-1.aws.ml.hana.ondemand.com/v2/inference/deployments/dcf97822fc795ac1/embeddings?api-version=2023-09-01-preview \"HTTP/1.1 200 OK\"\n",
      "HTTP Request: POST https://api.ai.intprod-eu12.eu-central-1.aws.ml.hana.ondemand.com/v2/inference/deployments/dcf97822fc795ac1/embeddings?api-version=2023-09-01-preview \"HTTP/1.1 200 OK\"\n",
      "INFO:httpx:HTTP Request: POST https://api.ai.intprod-eu12.eu-central-1.aws.ml.hana.ondemand.com/v2/inference/deployments/dcf97822fc795ac1/embeddings?api-version=2023-09-01-preview \"HTTP/1.1 200 OK\"\n",
      "HTTP Request: POST https://api.ai.intprod-eu12.eu-central-1.aws.ml.hana.ondemand.com/v2/inference/deployments/dcf97822fc795ac1/embeddings?api-version=2023-09-01-preview \"HTTP/1.1 200 OK\"\n",
      "INFO:httpx:HTTP Request: POST https://api.ai.intprod-eu12.eu-central-1.aws.ml.hana.ondemand.com/v2/inference/deployments/dcf97822fc795ac1/embeddings?api-version=2023-09-01-preview \"HTTP/1.1 200 OK\"\n",
      "HTTP Request: POST https://api.ai.intprod-eu12.eu-central-1.aws.ml.hana.ondemand.com/v2/inference/deployments/dcf97822fc795ac1/embeddings?api-version=2023-09-01-preview \"HTTP/1.1 200 OK\"\n",
      "INFO:httpx:HTTP Request: POST https://api.ai.intprod-eu12.eu-central-1.aws.ml.hana.ondemand.com/v2/inference/deployments/dcf97822fc795ac1/embeddings?api-version=2023-09-01-preview \"HTTP/1.1 200 OK\"\n",
      "HTTP Request: POST https://api.ai.intprod-eu12.eu-central-1.aws.ml.hana.ondemand.com/v2/inference/deployments/dcf97822fc795ac1/embeddings?api-version=2023-09-01-preview \"HTTP/1.1 200 OK\"\n",
      "INFO:httpx:HTTP Request: POST https://api.ai.intprod-eu12.eu-central-1.aws.ml.hana.ondemand.com/v2/inference/deployments/dcf97822fc795ac1/embeddings?api-version=2023-09-01-preview \"HTTP/1.1 200 OK\"\n",
      "HTTP Request: POST https://api.ai.intprod-eu12.eu-central-1.aws.ml.hana.ondemand.com/v2/inference/deployments/dcf97822fc795ac1/embeddings?api-version=2023-09-01-preview \"HTTP/1.1 200 OK\"\n",
      "INFO:httpx:HTTP Request: POST https://api.ai.intprod-eu12.eu-central-1.aws.ml.hana.ondemand.com/v2/inference/deployments/dcf97822fc795ac1/embeddings?api-version=2023-09-01-preview \"HTTP/1.1 200 OK\"\n",
      "HTTP Request: POST https://api.ai.intprod-eu12.eu-central-1.aws.ml.hana.ondemand.com/v2/inference/deployments/dcf97822fc795ac1/embeddings?api-version=2023-09-01-preview \"HTTP/1.1 200 OK\"\n",
      "INFO:httpx:HTTP Request: POST https://api.ai.intprod-eu12.eu-central-1.aws.ml.hana.ondemand.com/v2/inference/deployments/dcf97822fc795ac1/embeddings?api-version=2023-09-01-preview \"HTTP/1.1 200 OK\"\n",
      "HTTP Request: POST https://api.ai.intprod-eu12.eu-central-1.aws.ml.hana.ondemand.com/v2/inference/deployments/dcf97822fc795ac1/embeddings?api-version=2023-09-01-preview \"HTTP/1.1 200 OK\"\n",
      "INFO:httpx:HTTP Request: POST https://api.ai.intprod-eu12.eu-central-1.aws.ml.hana.ondemand.com/v2/inference/deployments/dcf97822fc795ac1/embeddings?api-version=2023-09-01-preview \"HTTP/1.1 200 OK\"\n",
      "HTTP Request: POST https://api.ai.intprod-eu12.eu-central-1.aws.ml.hana.ondemand.com/v2/inference/deployments/dcf97822fc795ac1/embeddings?api-version=2023-09-01-preview \"HTTP/1.1 200 OK\"\n",
      "INFO:httpx:HTTP Request: POST https://api.ai.intprod-eu12.eu-central-1.aws.ml.hana.ondemand.com/v2/inference/deployments/dcf97822fc795ac1/embeddings?api-version=2023-09-01-preview \"HTTP/1.1 200 OK\"\n",
      "HTTP Request: POST https://api.ai.intprod-eu12.eu-central-1.aws.ml.hana.ondemand.com/v2/inference/deployments/dcf97822fc795ac1/embeddings?api-version=2023-09-01-preview \"HTTP/1.1 200 OK\"\n",
      "INFO:httpx:HTTP Request: POST https://api.ai.intprod-eu12.eu-central-1.aws.ml.hana.ondemand.com/v2/inference/deployments/dcf97822fc795ac1/embeddings?api-version=2023-09-01-preview \"HTTP/1.1 200 OK\"\n",
      "HTTP Request: POST https://api.ai.intprod-eu12.eu-central-1.aws.ml.hana.ondemand.com/v2/inference/deployments/dcf97822fc795ac1/embeddings?api-version=2023-09-01-preview \"HTTP/1.1 200 OK\"\n",
      "INFO:httpx:HTTP Request: POST https://api.ai.intprod-eu12.eu-central-1.aws.ml.hana.ondemand.com/v2/inference/deployments/dcf97822fc795ac1/embeddings?api-version=2023-09-01-preview \"HTTP/1.1 200 OK\"\n",
      "HTTP Request: POST https://api.ai.intprod-eu12.eu-central-1.aws.ml.hana.ondemand.com/v2/inference/deployments/dcf97822fc795ac1/embeddings?api-version=2023-09-01-preview \"HTTP/1.1 200 OK\"\n",
      "INFO:httpx:HTTP Request: POST https://api.ai.intprod-eu12.eu-central-1.aws.ml.hana.ondemand.com/v2/inference/deployments/dcf97822fc795ac1/embeddings?api-version=2023-09-01-preview \"HTTP/1.1 200 OK\"\n",
      "HTTP Request: POST https://api.ai.intprod-eu12.eu-central-1.aws.ml.hana.ondemand.com/v2/inference/deployments/dcf97822fc795ac1/embeddings?api-version=2023-09-01-preview \"HTTP/1.1 200 OK\"\n",
      "INFO:httpx:HTTP Request: POST https://api.ai.intprod-eu12.eu-central-1.aws.ml.hana.ondemand.com/v2/inference/deployments/dcf97822fc795ac1/embeddings?api-version=2023-09-01-preview \"HTTP/1.1 200 OK\"\n",
      "HTTP Request: POST https://api.ai.intprod-eu12.eu-central-1.aws.ml.hana.ondemand.com/v2/inference/deployments/dcf97822fc795ac1/embeddings?api-version=2023-09-01-preview \"HTTP/1.1 200 OK\"\n",
      "INFO:httpx:HTTP Request: POST https://api.ai.intprod-eu12.eu-central-1.aws.ml.hana.ondemand.com/v2/inference/deployments/dcf97822fc795ac1/embeddings?api-version=2023-09-01-preview \"HTTP/1.1 200 OK\"\n",
      "HTTP Request: POST https://api.ai.intprod-eu12.eu-central-1.aws.ml.hana.ondemand.com/v2/inference/deployments/dcf97822fc795ac1/embeddings?api-version=2023-09-01-preview \"HTTP/1.1 200 OK\"\n",
      "INFO:httpx:HTTP Request: POST https://api.ai.intprod-eu12.eu-central-1.aws.ml.hana.ondemand.com/v2/inference/deployments/dcf97822fc795ac1/embeddings?api-version=2023-09-01-preview \"HTTP/1.1 200 OK\"\n",
      "HTTP Request: POST https://api.ai.intprod-eu12.eu-central-1.aws.ml.hana.ondemand.com/v2/inference/deployments/dcf97822fc795ac1/embeddings?api-version=2023-09-01-preview \"HTTP/1.1 200 OK\"\n",
      "INFO:httpx:HTTP Request: POST https://api.ai.intprod-eu12.eu-central-1.aws.ml.hana.ondemand.com/v2/inference/deployments/dcf97822fc795ac1/embeddings?api-version=2023-09-01-preview \"HTTP/1.1 200 OK\"\n",
      "HTTP Request: POST https://api.ai.intprod-eu12.eu-central-1.aws.ml.hana.ondemand.com/v2/inference/deployments/dcf97822fc795ac1/embeddings?api-version=2023-09-01-preview \"HTTP/1.1 200 OK\"\n",
      "INFO:httpx:HTTP Request: POST https://api.ai.intprod-eu12.eu-central-1.aws.ml.hana.ondemand.com/v2/inference/deployments/dcf97822fc795ac1/embeddings?api-version=2023-09-01-preview \"HTTP/1.1 200 OK\"\n",
      "HTTP Request: POST https://api.ai.intprod-eu12.eu-central-1.aws.ml.hana.ondemand.com/v2/inference/deployments/dcf97822fc795ac1/embeddings?api-version=2023-09-01-preview \"HTTP/1.1 200 OK\"\n",
      "INFO:httpx:HTTP Request: POST https://api.ai.intprod-eu12.eu-central-1.aws.ml.hana.ondemand.com/v2/inference/deployments/dcf97822fc795ac1/embeddings?api-version=2023-09-01-preview \"HTTP/1.1 200 OK\"\n",
      "HTTP Request: POST https://api.ai.intprod-eu12.eu-central-1.aws.ml.hana.ondemand.com/v2/inference/deployments/dcf97822fc795ac1/embeddings?api-version=2023-09-01-preview \"HTTP/1.1 200 OK\"\n",
      "INFO:httpx:HTTP Request: POST https://api.ai.intprod-eu12.eu-central-1.aws.ml.hana.ondemand.com/v2/inference/deployments/dcf97822fc795ac1/embeddings?api-version=2023-09-01-preview \"HTTP/1.1 200 OK\"\n"
     ]
    },
    {
     "name": "stdout",
     "output_type": "stream",
     "text": [
      "HTTP Request: POST https://api.ai.intprod-eu12.eu-central-1.aws.ml.hana.ondemand.com/v2/inference/deployments/dcf97822fc795ac1/embeddings?api-version=2023-09-01-preview \"HTTP/1.1 200 OK\"\n",
      "INFO:httpx:HTTP Request: POST https://api.ai.intprod-eu12.eu-central-1.aws.ml.hana.ondemand.com/v2/inference/deployments/dcf97822fc795ac1/embeddings?api-version=2023-09-01-preview \"HTTP/1.1 200 OK\"\n",
      "HTTP Request: POST https://api.ai.intprod-eu12.eu-central-1.aws.ml.hana.ondemand.com/v2/inference/deployments/dcf97822fc795ac1/embeddings?api-version=2023-09-01-preview \"HTTP/1.1 200 OK\"\n",
      "INFO:httpx:HTTP Request: POST https://api.ai.intprod-eu12.eu-central-1.aws.ml.hana.ondemand.com/v2/inference/deployments/dcf97822fc795ac1/embeddings?api-version=2023-09-01-preview \"HTTP/1.1 200 OK\"\n",
      "HTTP Request: POST https://api.ai.intprod-eu12.eu-central-1.aws.ml.hana.ondemand.com/v2/inference/deployments/dcf97822fc795ac1/embeddings?api-version=2023-09-01-preview \"HTTP/1.1 200 OK\"\n",
      "INFO:httpx:HTTP Request: POST https://api.ai.intprod-eu12.eu-central-1.aws.ml.hana.ondemand.com/v2/inference/deployments/dcf97822fc795ac1/embeddings?api-version=2023-09-01-preview \"HTTP/1.1 200 OK\"\n",
      "HTTP Request: POST https://api.ai.intprod-eu12.eu-central-1.aws.ml.hana.ondemand.com/v2/inference/deployments/dcf97822fc795ac1/embeddings?api-version=2023-09-01-preview \"HTTP/1.1 200 OK\"\n",
      "INFO:httpx:HTTP Request: POST https://api.ai.intprod-eu12.eu-central-1.aws.ml.hana.ondemand.com/v2/inference/deployments/dcf97822fc795ac1/embeddings?api-version=2023-09-01-preview \"HTTP/1.1 200 OK\"\n",
      "HTTP Request: POST https://api.ai.intprod-eu12.eu-central-1.aws.ml.hana.ondemand.com/v2/inference/deployments/dcf97822fc795ac1/embeddings?api-version=2023-09-01-preview \"HTTP/1.1 200 OK\"\n",
      "INFO:httpx:HTTP Request: POST https://api.ai.intprod-eu12.eu-central-1.aws.ml.hana.ondemand.com/v2/inference/deployments/dcf97822fc795ac1/embeddings?api-version=2023-09-01-preview \"HTTP/1.1 200 OK\"\n",
      "HTTP Request: POST https://api.ai.intprod-eu12.eu-central-1.aws.ml.hana.ondemand.com/v2/inference/deployments/dcf97822fc795ac1/embeddings?api-version=2023-09-01-preview \"HTTP/1.1 200 OK\"\n",
      "INFO:httpx:HTTP Request: POST https://api.ai.intprod-eu12.eu-central-1.aws.ml.hana.ondemand.com/v2/inference/deployments/dcf97822fc795ac1/embeddings?api-version=2023-09-01-preview \"HTTP/1.1 200 OK\"\n",
      "HTTP Request: POST https://api.ai.intprod-eu12.eu-central-1.aws.ml.hana.ondemand.com/v2/inference/deployments/dcf97822fc795ac1/embeddings?api-version=2023-09-01-preview \"HTTP/1.1 200 OK\"\n",
      "INFO:httpx:HTTP Request: POST https://api.ai.intprod-eu12.eu-central-1.aws.ml.hana.ondemand.com/v2/inference/deployments/dcf97822fc795ac1/embeddings?api-version=2023-09-01-preview \"HTTP/1.1 200 OK\"\n",
      "HTTP Request: POST https://api.ai.intprod-eu12.eu-central-1.aws.ml.hana.ondemand.com/v2/inference/deployments/dcf97822fc795ac1/embeddings?api-version=2023-09-01-preview \"HTTP/1.1 200 OK\"\n",
      "INFO:httpx:HTTP Request: POST https://api.ai.intprod-eu12.eu-central-1.aws.ml.hana.ondemand.com/v2/inference/deployments/dcf97822fc795ac1/embeddings?api-version=2023-09-01-preview \"HTTP/1.1 200 OK\"\n",
      "HTTP Request: POST https://api.ai.intprod-eu12.eu-central-1.aws.ml.hana.ondemand.com/v2/inference/deployments/dcf97822fc795ac1/embeddings?api-version=2023-09-01-preview \"HTTP/1.1 200 OK\"\n",
      "INFO:httpx:HTTP Request: POST https://api.ai.intprod-eu12.eu-central-1.aws.ml.hana.ondemand.com/v2/inference/deployments/dcf97822fc795ac1/embeddings?api-version=2023-09-01-preview \"HTTP/1.1 200 OK\"\n",
      "HTTP Request: POST https://api.ai.intprod-eu12.eu-central-1.aws.ml.hana.ondemand.com/v2/inference/deployments/dcf97822fc795ac1/embeddings?api-version=2023-09-01-preview \"HTTP/1.1 200 OK\"\n",
      "INFO:httpx:HTTP Request: POST https://api.ai.intprod-eu12.eu-central-1.aws.ml.hana.ondemand.com/v2/inference/deployments/dcf97822fc795ac1/embeddings?api-version=2023-09-01-preview \"HTTP/1.1 200 OK\"\n",
      "HTTP Request: POST https://api.ai.intprod-eu12.eu-central-1.aws.ml.hana.ondemand.com/v2/inference/deployments/dcf97822fc795ac1/embeddings?api-version=2023-09-01-preview \"HTTP/1.1 200 OK\"\n"
     ]
    }
   ],
   "source": [
    "index_metadata = VectorStoreIndex(nodes_meta,storage_context,embed_model=llama_emb)"
   ]
  },
  {
   "cell_type": "markdown",
   "id": "c83dec4b",
   "metadata": {},
   "source": [
    "#### Embedding query & non-strict meta-data (in this case, adding 'US')"
   ]
  },
  {
   "cell_type": "code",
   "execution_count": 124,
   "id": "c7602aa4",
   "metadata": {
    "scrolled": true
   },
   "outputs": [
    {
     "name": "stdout",
     "output_type": "stream",
     "text": [
      "INFO:httpx:HTTP Request: POST https://api.ai.intprod-eu12.eu-central-1.aws.ml.hana.ondemand.com/v2/inference/deployments/dcf97822fc795ac1/embeddings?api-version=2023-09-01-preview \"HTTP/1.1 200 OK\"\n",
      "HTTP Request: POST https://api.ai.intprod-eu12.eu-central-1.aws.ml.hana.ondemand.com/v2/inference/deployments/dcf97822fc795ac1/embeddings?api-version=2023-09-01-preview \"HTTP/1.1 200 OK\"\n"
     ]
    },
    {
     "data": {
      "text/plain": [
       "[['7', '202204_Pledge_to_Flex_Global_FAQ.pdf', 'global'],\n",
       " ['8', '202204_Pledge_to_Flex_Global_FAQ.pdf', 'global'],\n",
       " ['2', '202204_Pledge_to_Flex_Global_FAQ.pdf', 'global'],\n",
       " ['3', 'US Flex Work FAQs.pdf', 'US'],\n",
       " ['4', '202204_Pledge_to_Flex_Global_FAQ.pdf', 'global'],\n",
       " ['9', '202204_Pledge_to_Flex_Global_FAQ.pdf', 'global'],\n",
       " ['4', '202204_Pledge_to_Flex_Global_FAQ.pdf', 'global'],\n",
       " ['3', 'US Flex Work FAQs.pdf', 'US'],\n",
       " ['9', '202204_Pledge_to_Flex_Global_FAQ.pdf', 'global'],\n",
       " ['7', 'US Flex Work FAQs.pdf', 'US']]"
      ]
     },
     "execution_count": 124,
     "metadata": {},
     "output_type": "execute_result"
    }
   ],
   "source": [
    "query_US=\"I am facing personal circumstances that might make it challenging for me to follow the evolved hybrid work guidance. What kind of exceptions are available in the US?\"\n",
    "\n",
    "retriever = index_metadata.as_retriever(similarity_top_k=10)\n",
    "\n",
    "ADR2_context=retriever.retrieve(query_US)\n",
    "ci=[]\n",
    "for c in ADR2_context:\n",
    "    ci.append([c.node.metadata['page_label'],c.node.metadata['file_name'],c.node.metadata['context']])\n",
    "ci"
   ]
  },
  {
   "cell_type": "markdown",
   "id": "22a0dd5d",
   "metadata": {},
   "source": [
    "### 3 US chunks are in the top 10 !!"
   ]
  },
  {
   "cell_type": "markdown",
   "id": "a712a8b8",
   "metadata": {},
   "source": [
    "## ADR#2  Non-strict meta data filtering using reranker model"
   ]
  },
  {
   "cell_type": "markdown",
   "id": "cb660eae",
   "metadata": {},
   "source": [
    "In this approach after the embedding search has been done the query along with the nonStrictMetadataFilter is passed to the re-ranker model which in it's reranking should be able to consider the filter."
   ]
  },
  {
   "cell_type": "markdown",
   "id": "cb5ff27c",
   "metadata": {},
   "source": [
    "#### Without Re-ranker - BASELINE SCENARIO"
   ]
  },
  {
   "cell_type": "code",
   "execution_count": 112,
   "id": "fe85606d",
   "metadata": {},
   "outputs": [
    {
     "name": "stdout",
     "output_type": "stream",
     "text": [
      "INFO:httpx:HTTP Request: POST https://api.ai.intprod-eu12.eu-central-1.aws.ml.hana.ondemand.com/v2/inference/deployments/dcf97822fc795ac1/embeddings?api-version=2023-09-01-preview \"HTTP/1.1 200 OK\"\n",
      "HTTP Request: POST https://api.ai.intprod-eu12.eu-central-1.aws.ml.hana.ondemand.com/v2/inference/deployments/dcf97822fc795ac1/embeddings?api-version=2023-09-01-preview \"HTTP/1.1 200 OK\"\n"
     ]
    },
    {
     "data": {
      "text/plain": [
       "[['7', '202204_Pledge_to_Flex_Global_FAQ.pdf', 'global'],\n",
       " ['2', '202204_Pledge_to_Flex_Global_FAQ.pdf', 'global'],\n",
       " ['3', 'US Flex Work FAQs.pdf', 'US'],\n",
       " ['8', '202204_Pledge_to_Flex_Global_FAQ.pdf', 'global'],\n",
       " ['9', '202204_Pledge_to_Flex_Global_FAQ.pdf', 'global'],\n",
       " ['9', '202204_Pledge_to_Flex_Global_FAQ.pdf', 'global'],\n",
       " ['4', '202204_Pledge_to_Flex_Global_FAQ.pdf', 'global'],\n",
       " ['4', '202204_Pledge_to_Flex_Global_FAQ.pdf', 'global'],\n",
       " ['1', '202204_Pledge_to_Flex_Global_FAQ.pdf', 'global'],\n",
       " ['7', 'US Flex Work FAQs.pdf', 'US']]"
      ]
     },
     "execution_count": 112,
     "metadata": {},
     "output_type": "execute_result"
    }
   ],
   "source": [
    "retriever = index.as_retriever(similarity_top_k=10)\n",
    "context=retriever.retrieve(query)\n",
    "ci=[]\n",
    "for c in context:\n",
    "    ci.append([c.node.metadata['page_label'],c.node.metadata['file_name'],c.node.metadata['context']])\n",
    "ci"
   ]
  },
  {
   "cell_type": "markdown",
   "id": "993c0ee7",
   "metadata": {},
   "source": [
    "#### With Cohere Re-ranking and  non-strict meta-data filter by adding it to the query - introducing bias for US"
   ]
  },
  {
   "cell_type": "code",
   "execution_count": 111,
   "id": "37944a66",
   "metadata": {
    "scrolled": false
   },
   "outputs": [
    {
     "name": "stdout",
     "output_type": "stream",
     "text": [
      "INFO:httpx:HTTP Request: POST https://api.cohere.com/v1/rerank \"HTTP/1.1 200 OK\"\n",
      "HTTP Request: POST https://api.cohere.com/v1/rerank \"HTTP/1.1 200 OK\"\n"
     ]
    },
    {
     "data": {
      "text/plain": [
       "[['2', '202204_Pledge_to_Flex_Global_FAQ.pdf', 'global'],\n",
       " ['7', '202204_Pledge_to_Flex_Global_FAQ.pdf', 'global'],\n",
       " ['9', '202204_Pledge_to_Flex_Global_FAQ.pdf', 'global'],\n",
       " ['3', 'US Flex Work FAQs.pdf', 'US'],\n",
       " ['4', '202204_Pledge_to_Flex_Global_FAQ.pdf', 'global'],\n",
       " ['8', '202204_Pledge_to_Flex_Global_FAQ.pdf', 'global'],\n",
       " ['4', '202204_Pledge_to_Flex_Global_FAQ.pdf', 'global'],\n",
       " ['1', '202204_Pledge_to_Flex_Global_FAQ.pdf', 'global'],\n",
       " ['8', 'US Flex Work FAQs.pdf', 'US'],\n",
       " ['9', '202204_Pledge_to_Flex_Global_FAQ.pdf', 'global']]"
      ]
     },
     "execution_count": 111,
     "metadata": {},
     "output_type": "execute_result"
    }
   ],
   "source": [
    "import cohere\n",
    "# init client\n",
    "co = cohere.Client(\"fO0pe0IbZyWcHJ2HLhLb1Zc9b0HbFb7bYjpsA2On\")\n",
    "context_doc = []\n",
    "# Assuming context is a list of objects that have the method get_content(metadata_mode=\"all\")\n",
    "for i in range(len(context)):\n",
    "    context_doc.append(context[i].get_content(metadata_mode=\"all\"))\n",
    "    \n",
    "rerank_docs = co.rerank(\n",
    "    query=query_US, documents=context_doc, top_n=10, model=\"rerank-english-v2.0\"\n",
    ")\n",
    "cohere_ranked_nodes= [context[i.index] for i in rerank_docs.results]\n",
    "ci=[]\n",
    "for c in cohere_ranked_nodes:\n",
    "    ci.append([c.node.metadata['page_label'],c.node.metadata['file_name'],c.node.metadata['context']])\n",
    "ci"
   ]
  },
  {
   "cell_type": "markdown",
   "id": "2efb26ca",
   "metadata": {},
   "source": [
    "#### Re-Ranker with non-strict meta data after embedding search( ADR 2)"
   ]
  },
  {
   "cell_type": "code",
   "execution_count": 125,
   "id": "a906fdfd",
   "metadata": {},
   "outputs": [
    {
     "name": "stdout",
     "output_type": "stream",
     "text": [
      "INFO:httpx:HTTP Request: POST https://api.cohere.com/v1/rerank \"HTTP/1.1 200 OK\"\n",
      "HTTP Request: POST https://api.cohere.com/v1/rerank \"HTTP/1.1 200 OK\"\n"
     ]
    },
    {
     "data": {
      "text/plain": [
       "[['2', '202204_Pledge_to_Flex_Global_FAQ.pdf', 'global'],\n",
       " ['7', '202204_Pledge_to_Flex_Global_FAQ.pdf', 'global'],\n",
       " ['9', '202204_Pledge_to_Flex_Global_FAQ.pdf', 'global'],\n",
       " ['3', 'US Flex Work FAQs.pdf', 'US'],\n",
       " ['4', '202204_Pledge_to_Flex_Global_FAQ.pdf', 'global'],\n",
       " ['8', '202204_Pledge_to_Flex_Global_FAQ.pdf', 'global'],\n",
       " ['4', '202204_Pledge_to_Flex_Global_FAQ.pdf', 'global'],\n",
       " ['7', 'US Flex Work FAQs.pdf', 'US'],\n",
       " ['3', 'US Flex Work FAQs.pdf', 'US'],\n",
       " ['9', '202204_Pledge_to_Flex_Global_FAQ.pdf', 'global']]"
      ]
     },
     "execution_count": 125,
     "metadata": {},
     "output_type": "execute_result"
    }
   ],
   "source": [
    "context_doc = []\n",
    "# Assuming context is a list of objects that have the method get_content(metadata_mode=\"all\")\n",
    "\n",
    "for i in range(len(ADR2_context)):\n",
    "    context_doc.append(ADR2_context[i].get_content(metadata_mode=\"all\"))\n",
    "    \n",
    "rerank_docs = co.rerank(\n",
    "    query=query_US, documents=context_doc, top_n=10, model=\"rerank-english-v2.0\"\n",
    ")\n",
    "cohere_ranked_nodes= [ADR2_context[i.index] for i in rerank_docs.results]\n",
    "ci=[]\n",
    "for c in cohere_ranked_nodes:\n",
    "    ci.append([c.node.metadata['page_label'],c.node.metadata['file_name'],c.node.metadata['context']])\n",
    "ci"
   ]
  },
  {
   "cell_type": "markdown",
   "id": "478f6f02",
   "metadata": {},
   "source": [
    "### Re-ranker with meta-filtering ranks has very minimal effect in the overall ranking"
   ]
  },
  {
   "cell_type": "markdown",
   "id": "edd38b09",
   "metadata": {},
   "source": [
    "## ADR#3: Non-Strict Metadata Filtering using Custom Scoring"
   ]
  },
  {
   "cell_type": "markdown",
   "id": "4e566085",
   "metadata": {},
   "source": [
    "#### Baseline"
   ]
  },
  {
   "cell_type": "code",
   "execution_count": 117,
   "id": "68e48b15",
   "metadata": {},
   "outputs": [
    {
     "name": "stdout",
     "output_type": "stream",
     "text": [
      "INFO:httpx:HTTP Request: POST https://api.ai.intprod-eu12.eu-central-1.aws.ml.hana.ondemand.com/v2/inference/deployments/dcf97822fc795ac1/embeddings?api-version=2023-09-01-preview \"HTTP/1.1 200 OK\"\n",
      "HTTP Request: POST https://api.ai.intprod-eu12.eu-central-1.aws.ml.hana.ondemand.com/v2/inference/deployments/dcf97822fc795ac1/embeddings?api-version=2023-09-01-preview \"HTTP/1.1 200 OK\"\n"
     ]
    },
    {
     "data": {
      "text/plain": [
       "[['7', '202204_Pledge_to_Flex_Global_FAQ.pdf', 'global'],\n",
       " ['2', '202204_Pledge_to_Flex_Global_FAQ.pdf', 'global'],\n",
       " ['3', 'US Flex Work FAQs.pdf', 'US'],\n",
       " ['8', '202204_Pledge_to_Flex_Global_FAQ.pdf', 'global'],\n",
       " ['9', '202204_Pledge_to_Flex_Global_FAQ.pdf', 'global'],\n",
       " ['9', '202204_Pledge_to_Flex_Global_FAQ.pdf', 'global'],\n",
       " ['4', '202204_Pledge_to_Flex_Global_FAQ.pdf', 'global'],\n",
       " ['4', '202204_Pledge_to_Flex_Global_FAQ.pdf', 'global'],\n",
       " ['1', '202204_Pledge_to_Flex_Global_FAQ.pdf', 'global'],\n",
       " ['7', 'US Flex Work FAQs.pdf', 'US']]"
      ]
     },
     "execution_count": 117,
     "metadata": {},
     "output_type": "execute_result"
    }
   ],
   "source": [
    "retriever = index.as_retriever(similarity_top_k=10)\n",
    "context=retriever.retrieve(query)\n",
    "ci=[]\n",
    "for c in context:\n",
    "    ci.append([c.node.metadata['page_label'],c.node.metadata['file_name'],c.node.metadata['context']])\n",
    "ci"
   ]
  },
  {
   "cell_type": "markdown",
   "id": "4027f0ae",
   "metadata": {},
   "source": [
    " Re-rank the retrieved documents based on how close the document metadata is to query metadata 1.3. Return documents based off final ranking (limit to most relevant subset)"
   ]
  },
  {
   "cell_type": "code",
   "execution_count": 121,
   "id": "81422324",
   "metadata": {
    "scrolled": true
   },
   "outputs": [
    {
     "data": {
      "text/plain": [
       "[['3', 'US Flex Work FAQs.pdf', 'US'],\n",
       " ['7', 'US Flex Work FAQs.pdf', 'US'],\n",
       " ['7', '202204_Pledge_to_Flex_Global_FAQ.pdf', 'global'],\n",
       " ['2', '202204_Pledge_to_Flex_Global_FAQ.pdf', 'global'],\n",
       " ['8', '202204_Pledge_to_Flex_Global_FAQ.pdf', 'global'],\n",
       " ['9', '202204_Pledge_to_Flex_Global_FAQ.pdf', 'global'],\n",
       " ['9', '202204_Pledge_to_Flex_Global_FAQ.pdf', 'global'],\n",
       " ['4', '202204_Pledge_to_Flex_Global_FAQ.pdf', 'global'],\n",
       " ['4', '202204_Pledge_to_Flex_Global_FAQ.pdf', 'global'],\n",
       " ['1', '202204_Pledge_to_Flex_Global_FAQ.pdf', 'global']]"
      ]
     },
     "execution_count": 121,
     "metadata": {},
     "output_type": "execute_result"
    }
   ],
   "source": [
    "Query_metadata='US'\n",
    "# Custom sorting function to sort based on the query & doc meta-data\n",
    "ci_sorted = sorted(ci, key=lambda x: (x[2] != Query_metadata, x[2]))\n",
    "ci_sorted"
   ]
  },
  {
   "cell_type": "markdown",
   "id": "e21d1180",
   "metadata": {},
   "source": [
    "#### Reciprocal Fusion re-ranking model"
   ]
  },
  {
   "cell_type": "code",
   "execution_count": null,
   "id": "f48b093e",
   "metadata": {},
   "outputs": [],
   "source": [
    "from llama_index.core.retrievers import BaseRetriever\n",
    "\n",
    "## define meta-data retriver\n",
    "\n",
    "class metadataRetriever(BaseRetriever):\n",
    "    def __init__(self):\n",
    "    \n",
    "        super().__init__()\n",
    "\n",
    "    def _retrieve(self, query, **kwargs):\n",
    "        \n",
    "        # combine the two lists of nodes\n",
    "        all_nodes = []\n",
    "        node_ids = set()\n",
    "        for n in bm25_nodes + vector_nodes:\n",
    "            if n.node.node_id not in node_ids:\n",
    "                all_nodes.append(n)\n",
    "                node_ids.add(n.node.node_id)\n",
    "        return all_nodes\n",
    "\n",
    "metadata_retriever = metadataRetriever()"
   ]
  },
  {
   "cell_type": "code",
   "execution_count": null,
   "id": "43614813",
   "metadata": {},
   "outputs": [],
   "source": [
    "from llama_index.core.retrievers import QueryFusionRetriever\n",
    "\n",
    "retriever = QueryFusionRetriever(\n",
    "    [retriever, metadata_retriever],\n",
    "    similarity_top_k=10,\n",
    "    num_queries=1,  # set this to 1 to disable query generation\n",
    "    mode=\"reciprocal_rerank\",\n",
    "    use_async=True,\n",
    "    verbose=True,\n",
    "    # query_gen_prompt=\"...\",  # we could override the query generation prompt here\n",
    ")"
   ]
  },
  {
   "cell_type": "markdown",
   "id": "a49fcd07",
   "metadata": {},
   "source": [
    "### Meta- data extractors from the document"
   ]
  },
  {
   "cell_type": "code",
   "execution_count": 152,
   "id": "3422b299",
   "metadata": {},
   "outputs": [],
   "source": [
    "from llama_index.core.extractors import (\n",
    "    SummaryExtractor,\n",
    "    QuestionsAnsweredExtractor,\n",
    "    TitleExtractor,\n",
    "    KeywordExtractor,\n",
    "    BaseExtractor,\n",
    ")\n",
    "\n",
    "from llama_index.core.schema import MetadataMode\n",
    "\n",
    "from llama_index.core.extractors import (\n",
    "    SummaryExtractor,\n",
    "    QuestionsAnsweredExtractor,\n",
    ")\n",
    "\n",
    "extractors_1 = [\n",
    "    QuestionsAnsweredExtractor(\n",
    "        questions=3, llm=llama_llm, metadata_mode=MetadataMode.EMBED\n",
    "    ),\n",
    "]\n",
    "\n",
    "class CustomExtractor(BaseExtractor):\n",
    "    def extract(self, nodes):\n",
    "        metadata_list = [\n",
    "            {\n",
    "                \"custom\": \"Cluster1\"\n",
    "            }\n",
    "            for node in nodes\n",
    "        ]\n",
    "        return metadata_list"
   ]
  },
  {
   "cell_type": "code",
   "execution_count": 19,
   "id": "3bf007b1",
   "metadata": {
    "scrolled": true
   },
   "outputs": [
    {
     "data": {
      "application/vnd.jupyter.widget-view+json": {
       "model_id": "c3c01634cca84c4e98d6e801b5387cbf",
       "version_major": 2,
       "version_minor": 0
      },
      "text/plain": [
       "Parsing nodes:   0%|          | 0/3 [00:00<?, ?it/s]"
      ]
     },
     "metadata": {},
     "output_type": "display_data"
    },
    {
     "name": "stderr",
     "output_type": "stream",
     "text": [
      "  0%|                                                                                            | 0/3 [00:00<?, ?it/s]C:\\Users\\I068117\\Anaconda3\\envs\\myenv10\\lib\\site-packages\\langchain_core\\_api\\deprecation.py:119: LangChainDeprecationWarning: The method `BaseChatModel.predict_messages` was deprecated in langchain-core 0.1.7 and will be removed in 0.3.0. Use invoke instead.\n",
      "  warn_deprecated(\n",
      "100%|████████████████████████████████████████████████████████████████████████████████████| 3/3 [00:04<00:00,  1.35s/it]\n"
     ]
    }
   ],
   "source": [
    "from llama_index.core.ingestion import IngestionPipeline\n",
    "\n",
    "# process nodes with metadata extractors\n",
    "pipeline = IngestionPipeline(transformations=[node_parser, *CustomExtractor])\n",
    "\n",
    "nodes_1 = pipeline.run(nodes=nodes[:3], in_place=False, show_progress=True)"
   ]
  },
  {
   "cell_type": "markdown",
   "id": "ac2b35ed",
   "metadata": {},
   "source": [
    "### Auto retreival filtering using LLM "
   ]
  },
  {
   "cell_type": "code",
   "execution_count": 126,
   "id": "76204bb4",
   "metadata": {},
   "outputs": [],
   "source": [
    "from llama_index.core.retrievers import VectorIndexAutoRetriever\n",
    "from llama_index.core.vector_stores.types import MetadataInfo, VectorStoreInfo\n",
    "\n",
    "vector_store_info = VectorStoreInfo(\n",
    "    content_info=\"Scifact\",\n",
    "    metadata_info=[\n",
    "        MetadataInfo(\n",
    "            name=\"idx\",\n",
    "            type=\"str\",\n",
    "            description=(\n",
    "                \"it's number index in the metadata\"\n",
    "            ),\n",
    "        ),\n",
    "    ],\n",
    ")\n",
    "\n",
    "retriever = VectorIndexAutoRetriever(\n",
    "    index, vector_store_info=vector_store_info,similarity_top_k=10)"
   ]
  }
 ],
 "metadata": {
  "kernelspec": {
   "display_name": "py310",
   "language": "python",
   "name": "py310"
  },
  "language_info": {
   "codemirror_mode": {
    "name": "ipython",
    "version": 3
   },
   "file_extension": ".py",
   "mimetype": "text/x-python",
   "name": "python",
   "nbconvert_exporter": "python",
   "pygments_lexer": "ipython3",
   "version": "3.10.14"
  }
 },
 "nbformat": 4,
 "nbformat_minor": 5
}
