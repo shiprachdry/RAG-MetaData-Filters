{
 "cells": [
  {
   "cell_type": "markdown",
   "id": "f61f531b",
   "metadata": {},
   "source": [
    "#### Defining llm & embedding"
   ]
  },
  {
   "cell_type": "code",
   "execution_count": 1,
   "id": "1c5f7ea1",
   "metadata": {},
   "outputs": [
    {
     "name": "stderr",
     "output_type": "stream",
     "text": [
      "C:\\Users\\I068117\\AppData\\Local\\Temp\\ipykernel_34236\\2491488312.py:3: UserWarning: Starting from verison 1.0.0 the default proxy_version was set to 'gen-ai-hub'. Use gen_ai_hub.proxy.core.proxy_clients.set_proxy_version('btp') to set the proxy_version to 'btp'.\n",
      "  from llm_commons.langchain.proxy import ChatOpenAI\n"
     ]
    }
   ],
   "source": [
    "import pandas as pd\n",
    "import numpy as np\n",
    "from llm_commons.langchain.proxy import ChatOpenAI\n",
    "from llm_commons.langchain.proxy import OpenAIEmbeddings\n",
    "from ipywidgets import widgets\n",
    "\n",
    "llm_model_name = widgets.Dropdown(\n",
    "    options=[\n",
    "        \"gpt-35-turbo\",\n",
    "        \"gpt-35-turbo-16k\",\n",
    "        \"gpt-4\",\n",
    "        \"gpt-4-32k\",\n",
    "        \"gpt-4-turbo\",\n",
    "        \"gemini-1.0-pro\",\n",
    "        \"gpt-4-vision\"\n",
    "        # \"tiiuae--falcon-40b-instruct\"\n",
    "    ],\n",
    "    value=\"gpt-35-turbo-16k\",\n",
    "    description=\"LLM Model Name\",\n",
    "    disabled=False,\n",
    ")\n",
    "\n",
    "\n",
    "llm = ChatOpenAI(proxy_model_name=llm_model_name.value)\n",
    "embeddings = OpenAIEmbeddings(proxy_model_name='text-embedding-ada-002')\n",
    "\n",
    "from llama_index.embeddings.langchain import LangchainEmbedding\n",
    "from llama_index.llms.langchain import LangChainLLM\n",
    "\n",
    "llama_llm = LangChainLLM(llm)\n",
    "llama_emb= LangchainEmbedding(embeddings)\n",
    "\n",
    "from llama_index.core import Settings\n",
    "Settings.embed_model = embeddings\n",
    "Settings.llm = llm"
   ]
  },
  {
   "cell_type": "markdown",
   "id": "b0a4ab7d",
   "metadata": {},
   "source": [
    "### Creating LLama_index documents from the corpus data - Scifact & nfcorpus"
   ]
  },
  {
   "cell_type": "code",
   "execution_count": 35,
   "id": "c2cd8ad8",
   "metadata": {},
   "outputs": [],
   "source": [
    "import json\n",
    "from llama_index.core import Document\n",
    "Lama_doc=[]\n",
    "data_path = 'C:/Users/I068117/UT_Machine Learning/datasets/scifact'\n",
    "\n",
    "with open(f'{data_path}/corpus.json') as file:\n",
    "    data = json.load(file)\n",
    "\n",
    "    for item in data[:5]:\n",
    "        index = item['_id']\n",
    "        title = item['title']\n",
    "        text = item['text'] \n",
    "        Lama_doc.append(Document(text=text,metadata= dict(idx =index, title= title, dataset=\"Scifact\",cluster=\"cluster1\")))\n",
    "    for item in data[5:10]:\n",
    "        index = item['_id']\n",
    "        title = item['title']\n",
    "        text = item['text'] \n",
    "        Lama_doc.append(Document(text=text,metadata= dict(idx =index, title= title, dataset=\"Scifact\",cluster=\"cluster2\")))\n",
    "        \n",
    "    for item in data[10:15]:\n",
    "        index = item['_id']\n",
    "        title = item['title']\n",
    "        text = item['text'] \n",
    "        Lama_doc.append(Document(text=text,metadata= dict(idx =index, title= title, dataset=\"Scifact\",cluster=\"cluster3\"))) \n",
    "        \n",
    "        \n",
    "data_path = 'C:/Users/I068117/UT_Machine Learning/datasets/nfcorpus'      \n",
    "\n",
    "with open(f'{data_path}/corpus.json') as file:\n",
    "    data = json.load(file)\n",
    "\n",
    "    for item in data[:15]:\n",
    "        index = item['_id']\n",
    "        title = item['title']\n",
    "        text = item['text'] \n",
    "        Lama_doc.append(Document(text=text,metadata= dict(idx =index, title= title, dataset=\"nfcorpus\")))\n",
    "\n",
    "#Lama_doc[0]  "
   ]
  },
  {
   "cell_type": "code",
   "execution_count": 6,
   "id": "6f088f57",
   "metadata": {
    "collapsed": true
   },
   "outputs": [
    {
     "data": {
      "text/plain": [
       "Document(id_='8c1e36d1-4517-45b5-8c1d-4919414aec45', embedding=None, metadata={'idx': '4983', 'title': 'Microstructural development of human newborn cerebral white matter assessed in vivo by diffusion tensor magnetic resonance imaging.', 'dataset': 'Scifact', 'cluster': 'cluster1'}, excluded_embed_metadata_keys=[], excluded_llm_metadata_keys=[], relationships={}, text='Alterations of the architecture of cerebral white matter in the developing human brain can affect cortical development and result in functional disabilities. A line scan diffusion-weighted magnetic resonance imaging (MRI) sequence with diffusion tensor analysis was applied to measure the apparent diffusion coefficient, to calculate relative anisotropy, and to delineate three-dimensional fiber architecture in cerebral white matter in preterm (n = 17) and full-term infants (n = 7). To assess effects of prematurity on cerebral white matter development, early gestation preterm infants (n = 10) were studied a second time at term. In the central white matter the mean apparent diffusion coefficient at 28 wk was high, 1.8 microm2/ms, and decreased toward term to 1.2 microm2/ms. In the posterior limb of the internal capsule, the mean apparent diffusion coefficients at both times were similar (1.2 versus 1.1 microm2/ms). Relative anisotropy was higher the closer birth was to term with greater absolute values in the internal capsule than in the central white matter. Preterm infants at term showed higher mean diffusion coefficients in the central white matter (1.4 +/- 0.24 versus 1.15 +/- 0.09 microm2/ms, p = 0.016) and lower relative anisotropy in both areas compared with full-term infants (white matter, 10.9 +/- 0.6 versus 22.9 +/- 3.0%, p = 0.001; internal capsule, 24.0 +/- 4.44 versus 33.1 +/- 0.6% p = 0.006). Nonmyelinated fibers in the corpus callosum were visible by diffusion tensor MRI as early as 28 wk; full-term and preterm infants at term showed marked differences in white matter fiber organization. The data indicate that quantitative assessment of water diffusion by diffusion tensor MRI provides insight into microstructural development in cerebral white matter in living infants.', start_char_idx=None, end_char_idx=None, text_template='{metadata_str}\\n\\n{content}', metadata_template='{key}: {value}', metadata_seperator='\\n')"
      ]
     },
     "execution_count": 6,
     "metadata": {},
     "output_type": "execute_result"
    }
   ],
   "source": [
    "from llama_index.core.node_parser import SentenceSplitter\n",
    "node_parser = SentenceSplitter()\n",
    "nodes_2= node_parser.get_nodes_from_documents(Lama_doc)\n",
    "print(nodes_2[10].get_content(metadata_mode=\"all\"))"
   ]
  },
  {
   "cell_type": "markdown",
   "id": "5185dbec",
   "metadata": {},
   "source": [
    "##### ChromaVector store"
   ]
  },
  {
   "cell_type": "code",
   "execution_count": 17,
   "id": "5b46cce6",
   "metadata": {},
   "outputs": [],
   "source": [
    "import nest_asyncio\n",
    "nest_asyncio.apply()"
   ]
  },
  {
   "cell_type": "code",
   "execution_count": 16,
   "id": "68f3361c",
   "metadata": {},
   "outputs": [],
   "source": [
    "import logging\n",
    "import sys\n",
    "\n",
    "logging.basicConfig(stream=sys.stdout, level=logging.INFO)\n",
    "logging.getLogger().addHandler(logging.StreamHandler(stream=sys.stdout))"
   ]
  },
  {
   "cell_type": "code",
   "execution_count": 11,
   "id": "57562d87",
   "metadata": {},
   "outputs": [
    {
     "name": "stdout",
     "output_type": "stream",
     "text": [
      "INFO:chromadb.telemetry.product.posthog:Anonymized telemetry enabled. See                     https://docs.trychroma.com/telemetry for more information.\n",
      "Anonymized telemetry enabled. See                     https://docs.trychroma.com/telemetry for more information.\n"
     ]
    }
   ],
   "source": [
    "import chromadb\n",
    "chroma_client = chromadb.EphemeralClient()\n",
    "chroma_collection = chroma_client.create_collection(\"quickstart\")"
   ]
  },
  {
   "cell_type": "code",
   "execution_count": 13,
   "id": "ab2ab0b0",
   "metadata": {},
   "outputs": [],
   "source": [
    "from llama_index.vector_stores.chroma import ChromaVectorStore\n",
    "from llama_index.core import StorageContext\n",
    "#Storing index on the disk\n",
    "from llama_index.core import (\n",
    "    load_index_from_storage,\n",
    "    VectorStoreIndex,\n",
    "    StorageContext,\n",
    ")\n",
    "\n",
    "vector_store = ChromaVectorStore(chroma_collection=chroma_collection)\n",
    "storage_context = StorageContext.from_defaults(vector_store=vector_store)"
   ]
  },
  {
   "cell_type": "code",
   "execution_count": null,
   "id": "47a73685",
   "metadata": {},
   "outputs": [],
   "source": [
    "#Storing index on the disk.. DONT RUN THIS>....\n",
    "index = VectorStoreIndex(nodes, storage_context=storage_context)\n",
    "index.storage_context.persist(persist_dir='C:/Users/I068117/UT_Machine Learning/datasets/scifact/chromaindex')"
   ]
  },
  {
   "cell_type": "markdown",
   "id": "42823e9e",
   "metadata": {},
   "source": [
    "### Strict Meta-data filtering"
   ]
  },
  {
   "cell_type": "code",
   "execution_count": null,
   "id": "59a1d22b",
   "metadata": {},
   "outputs": [],
   "source": [
    "index_strictfilter = VectorStoreIndex(nodes_2,storage_context)"
   ]
  },
  {
   "cell_type": "code",
   "execution_count": 68,
   "id": "aadd9d04",
   "metadata": {},
   "outputs": [],
   "source": [
    "from llama_index.core.vector_stores import (\n",
    "    MetadataFilter,\n",
    "    MetadataFilters,\n",
    "    FilterOperator,\n",
    ")\n",
    "\n",
    "filters = MetadataFilters(\n",
    "    filters=[\n",
    "        MetadataFilter(key=\"dataset\", operator=FilterOperator.EQ, value=\"Scifact\"),\n",
    "    ]\n",
    ")\n",
    "\n",
    "retriever = index_strictfilter.as_retriever(filters=filters, similarity_top_k=10)"
   ]
  },
  {
   "cell_type": "code",
   "execution_count": 69,
   "id": "de0c28b2",
   "metadata": {},
   "outputs": [
    {
     "name": "stdout",
     "output_type": "stream",
     "text": [
      "INFO:httpx:HTTP Request: POST https://api.ai.intprod-eu12.eu-central-1.aws.ml.hana.ondemand.com/v2/inference/deployments/dcf97822fc795ac1/embeddings?api-version=2023-09-01-preview \"HTTP/1.1 200 OK\"\n",
      "HTTP Request: POST https://api.ai.intprod-eu12.eu-central-1.aws.ml.hana.ondemand.com/v2/inference/deployments/dcf97822fc795ac1/embeddings?api-version=2023-09-01-preview \"HTTP/1.1 200 OK\"\n",
      "HTTP Request: POST https://api.ai.intprod-eu12.eu-central-1.aws.ml.hana.ondemand.com/v2/inference/deployments/dcf97822fc795ac1/embeddings?api-version=2023-09-01-preview \"HTTP/1.1 200 OK\"\n"
     ]
    },
    {
     "data": {
      "text/plain": [
       "[['5836', 'Scifact', 'cluster1'],\n",
       " ['72159', 'Scifact', 'cluster3'],\n",
       " ['19238', 'Scifact', 'cluster1'],\n",
       " ['18670', 'Scifact', 'cluster1'],\n",
       " ['33370', 'Scifact', 'cluster2'],\n",
       " ['92308', 'Scifact', 'cluster3'],\n",
       " ['36474', 'Scifact', 'cluster2'],\n",
       " ['92499', 'Scifact', 'cluster3'],\n",
       " ['79447', 'Scifact', 'cluster3'],\n",
       " ['54440', 'Scifact', 'cluster2']]"
      ]
     },
     "execution_count": 69,
     "metadata": {},
     "output_type": "execute_result"
    }
   ],
   "source": [
    "context=retriever.retrieve(\"Toll-like receptor (TLR) signaling is involved in the pathogenesis of human MDS.\")\n",
    "ci=[]\n",
    "for c in context:\n",
    "    ci.append([c.node.metadata['idx'],c.node.metadata['dataset'],c.node.metadata['cluster']])\n",
    "ci"
   ]
  },
  {
   "cell_type": "code",
   "execution_count": 70,
   "id": "c0661232",
   "metadata": {},
   "outputs": [],
   "source": [
    "from llama_index.core.vector_stores import FilterOperator, FilterCondition\n",
    "filters = MetadataFilters(\n",
    "    filters=[\n",
    "        MetadataFilter(key=\"dataset\", operator=FilterOperator.EQ, value=\"Scifact\"),\n",
    "        MetadataFilter(key=\"cluster\", value=\"cluster1\"),\n",
    "    ],\n",
    "    condition=FilterCondition.AND,\n",
    "\n",
    ")\n",
    "\n",
    "retriever = index_strictfilter.as_retriever(filters=filters, similarity_top_k=10)"
   ]
  },
  {
   "cell_type": "code",
   "execution_count": 71,
   "id": "3f6c392b",
   "metadata": {
    "scrolled": true
   },
   "outputs": [
    {
     "name": "stdout",
     "output_type": "stream",
     "text": [
      "INFO:httpx:HTTP Request: POST https://api.ai.intprod-eu12.eu-central-1.aws.ml.hana.ondemand.com/v2/inference/deployments/dcf97822fc795ac1/embeddings?api-version=2023-09-01-preview \"HTTP/1.1 200 OK\"\n",
      "HTTP Request: POST https://api.ai.intprod-eu12.eu-central-1.aws.ml.hana.ondemand.com/v2/inference/deployments/dcf97822fc795ac1/embeddings?api-version=2023-09-01-preview \"HTTP/1.1 200 OK\"\n",
      "HTTP Request: POST https://api.ai.intprod-eu12.eu-central-1.aws.ml.hana.ondemand.com/v2/inference/deployments/dcf97822fc795ac1/embeddings?api-version=2023-09-01-preview \"HTTP/1.1 200 OK\"\n"
     ]
    },
    {
     "data": {
      "text/plain": [
       "[['5836', 'Scifact', 'cluster1'],\n",
       " ['19238', 'Scifact', 'cluster1'],\n",
       " ['18670', 'Scifact', 'cluster1'],\n",
       " ['4983', 'Scifact', 'cluster1'],\n",
       " ['7912', 'Scifact', 'cluster1']]"
      ]
     },
     "execution_count": 71,
     "metadata": {},
     "output_type": "execute_result"
    }
   ],
   "source": [
    "context=retriever.retrieve(\"Toll-like receptor (TLR) signaling is involved in the pathogenesis of human MDS.\")\n",
    "ci=[]\n",
    "for c in context:\n",
    "    ci.append([c.node.metadata['idx'],c.node.metadata['dataset'],c.node.metadata['cluster']])\n",
    "ci"
   ]
  },
  {
   "cell_type": "markdown",
   "id": "7498b44d",
   "metadata": {},
   "source": [
    "### Cons: Strict Metadata Filtering\n",
    "Not suitable for heterogeneous metadata:\n",
    "Consider two collections representing two LoBs: HR Policy Documents maintained by SFSF and Travel Policy Documents maintained by Concur. Each LoB might have their own metadata taxonomy with different keys. If a query specifies both concurRole='engineer'and sfsfRole='manager', no document will have both keys and the query result will be empty."
   ]
  },
  {
   "cell_type": "code",
   "execution_count": 72,
   "id": "60f8b55c",
   "metadata": {},
   "outputs": [],
   "source": [
    "from llama_index.core.vector_stores import FilterOperator, FilterCondition\n",
    "filters = MetadataFilters(\n",
    "    filters=[\n",
    "        MetadataFilter(key=\"dataset\", operator=FilterOperator.EQ, value=\"nfcorpus\"),\n",
    "        MetadataFilter(key=\"cluster\", value=\"cluster1\"),\n",
    "    ],\n",
    "    condition=FilterCondition.AND,\n",
    "\n",
    ")\n",
    "\n",
    "retriever = index_strictfilter.as_retriever(filters=filters, similarity_top_k=10)"
   ]
  },
  {
   "cell_type": "code",
   "execution_count": 73,
   "id": "dea22b69",
   "metadata": {
    "scrolled": true
   },
   "outputs": [
    {
     "name": "stdout",
     "output_type": "stream",
     "text": [
      "INFO:httpx:HTTP Request: POST https://api.ai.intprod-eu12.eu-central-1.aws.ml.hana.ondemand.com/v2/inference/deployments/dcf97822fc795ac1/embeddings?api-version=2023-09-01-preview \"HTTP/1.1 200 OK\"\n",
      "HTTP Request: POST https://api.ai.intprod-eu12.eu-central-1.aws.ml.hana.ondemand.com/v2/inference/deployments/dcf97822fc795ac1/embeddings?api-version=2023-09-01-preview \"HTTP/1.1 200 OK\"\n",
      "HTTP Request: POST https://api.ai.intprod-eu12.eu-central-1.aws.ml.hana.ondemand.com/v2/inference/deployments/dcf97822fc795ac1/embeddings?api-version=2023-09-01-preview \"HTTP/1.1 200 OK\"\n"
     ]
    },
    {
     "data": {
      "text/plain": [
       "[]"
      ]
     },
     "execution_count": 73,
     "metadata": {},
     "output_type": "execute_result"
    }
   ],
   "source": [
    "context=retriever.retrieve(\"Toll-like receptor (TLR) signaling is involved in the pathogenesis of human MDS.\")\n",
    "ci=[]\n",
    "for c in context:\n",
    "    ci.append([c.node.metadata['idx'],c.node.metadata['dataset'],c.node.metadata['cluster']])\n",
    "ci"
   ]
  },
  {
   "cell_type": "markdown",
   "id": "fafaaf64",
   "metadata": {},
   "source": [
    "### Non-Strict Meta-data filtering using embedding search"
   ]
  },
  {
   "cell_type": "markdown",
   "id": "3228953e",
   "metadata": {},
   "source": [
    "In this approach the query along with the nonStrictMetadataFilter is embedded followed by an Embedding Search.\n",
    "\n",
    "The stored embeddings in the Vector database represent the chunk along with the metadata.- Metadata is embedded along with the document"
   ]
  },
  {
   "cell_type": "markdown",
   "id": "bc4712ce",
   "metadata": {},
   "source": [
    "###### Embedding document+meta-data non strict filters"
   ]
  },
  {
   "cell_type": "code",
   "execution_count": 34,
   "id": "f9685773",
   "metadata": {},
   "outputs": [],
   "source": [
    "import json\n",
    "from llama_index.core import Document\n",
    "Lama_doc_meta=[]\n",
    "data_path = 'C:/Users/I068117/UT_Machine Learning/datasets/scifact'\n",
    "\n",
    "with open(f'{data_path}/corpus.json') as file:\n",
    "    data = json.load(file)\n",
    "\n",
    "    for item in data[:5]:\n",
    "        index = item['_id']\n",
    "        title = item['title']\n",
    "        text = item['text']\n",
    "        cluster=\"cluster1\"\n",
    "        Lama_doc_meta.append(Document(text=text+ index+title+cluster,metadata= dict(idx =index, title= title, dataset=\"Scifact\",cluster=cluster)))\n",
    "    for item in data[5:10]:\n",
    "        index = item['_id']\n",
    "        title = item['title']\n",
    "        text = item['text'] \n",
    "        cluster=\"cluster2\"\n",
    "        Lama_doc_meta.append(Document(text=text+ index+title+cluster,metadata= dict(idx =index, title= title, dataset=\"Scifact\",cluster=cluster)))\n",
    "        \n",
    "    for item in data[10:15]:\n",
    "        index = item['_id']\n",
    "        title = item['title']\n",
    "        text = item['text']\n",
    "        cluster=\"cluster3\"\n",
    "        Lama_doc_meta.append(Document(text=text+ index+title+cluster,metadata= dict(idx =index, title= title, dataset=\"Scifact\",cluster=cluster))) \n",
    "        \n",
    "        \n",
    "data_path = 'C:/Users/I068117/UT_Machine Learning/datasets/nfcorpus'      \n",
    "\n",
    "with open(f'{data_path}/corpus.json') as file:\n",
    "    data = json.load(file)\n",
    "\n",
    "    for item in data[:15]:\n",
    "        index = item['_id']\n",
    "        title = item['title']\n",
    "        text = item['text'] \n",
    "        Lama_doc_meta.append(Document(text=text+ index+title,metadata= dict(idx =index, title= title, dataset=\"nfcorpus\")))"
   ]
  },
  {
   "cell_type": "code",
   "execution_count": null,
   "id": "a4b1361a",
   "metadata": {},
   "outputs": [],
   "source": [
    "index_nonstrictfilter_emb = VectorStoreIndex.from_documents(Lama_doc_meta,storage_context)"
   ]
  },
  {
   "cell_type": "code",
   "execution_count": 74,
   "id": "15888911",
   "metadata": {},
   "outputs": [],
   "source": [
    "from llama_index.core.vector_stores import (\n",
    "    MetadataFilter,\n",
    "    MetadataFilters,\n",
    "    FilterOperator,\n",
    ")\n",
    "\n",
    "filters = MetadataFilters(\n",
    "    filters=[\n",
    "        MetadataFilter(key=\"dataset\", operator=FilterOperator.EQ, value=\"Scifact\"),\n",
    "    ]\n",
    ")\n",
    "\n",
    "retriever = index_nonstrictfilter_emb.as_retriever(filters=filters, similarity_top_k=10)"
   ]
  },
  {
   "cell_type": "markdown",
   "id": "73c74569",
   "metadata": {},
   "source": [
    "#### Embedding the non-strict filter in the query + any meta-data associated with the query"
   ]
  },
  {
   "cell_type": "code",
   "execution_count": 64,
   "id": "fb7915a6",
   "metadata": {},
   "outputs": [
    {
     "data": {
      "text/plain": [
       "745    Toll-like receptor (TLR) signaling is involved in the pathogenesis of human MDS. \n",
       "Name: new_query, dtype: object"
      ]
     },
     "execution_count": 64,
     "metadata": {},
     "output_type": "execute_result"
    }
   ],
   "source": [
    "pd.set_option('display.max_colwidth', None)\n",
    "df[df['_id']== 1306]['new_query'] #no meta-data accociated with query"
   ]
  },
  {
   "cell_type": "code",
   "execution_count": 75,
   "id": "c07cfea7",
   "metadata": {},
   "outputs": [
    {
     "name": "stdout",
     "output_type": "stream",
     "text": [
      "INFO:httpx:HTTP Request: POST https://api.ai.intprod-eu12.eu-central-1.aws.ml.hana.ondemand.com/v2/inference/deployments/dcf97822fc795ac1/embeddings?api-version=2023-09-01-preview \"HTTP/1.1 200 OK\"\n",
      "HTTP Request: POST https://api.ai.intprod-eu12.eu-central-1.aws.ml.hana.ondemand.com/v2/inference/deployments/dcf97822fc795ac1/embeddings?api-version=2023-09-01-preview \"HTTP/1.1 200 OK\"\n",
      "HTTP Request: POST https://api.ai.intprod-eu12.eu-central-1.aws.ml.hana.ondemand.com/v2/inference/deployments/dcf97822fc795ac1/embeddings?api-version=2023-09-01-preview \"HTTP/1.1 200 OK\"\n"
     ]
    },
    {
     "data": {
      "text/plain": [
       "[['72159', 'Scifact', 'cluster3'],\n",
       " ['5836', 'Scifact', 'cluster1'],\n",
       " ['19238', 'Scifact', 'cluster1'],\n",
       " ['18670', 'Scifact', 'cluster1'],\n",
       " ['92308', 'Scifact', 'cluster3'],\n",
       " ['33370', 'Scifact', 'cluster2'],\n",
       " ['54440', 'Scifact', 'cluster2'],\n",
       " ['36474', 'Scifact', 'cluster2'],\n",
       " ['92499', 'Scifact', 'cluster3'],\n",
       " ['7912', 'Scifact', 'cluster1']]"
      ]
     },
     "execution_count": 75,
     "metadata": {},
     "output_type": "execute_result"
    }
   ],
   "source": [
    "context= retriever.retrieve(\"Toll-like receptor (TLR) signaling is involved in the pathogenesis of human MDS.+ cluster 1\")\n",
    "ci=[]\n",
    "for c in context:\n",
    "    ci.append([c.node.metadata['idx'],c.node.metadata['dataset'],c.node.metadata['cluster']])\n",
    "ci"
   ]
  },
  {
   "cell_type": "markdown",
   "id": "e7ab5302",
   "metadata": {},
   "source": [
    "#### Cons - Non-Strict Metadata Filtering using Embedding Search\n",
    "1. Might retrieve irrelevant textual chunks pertaining to the metadata but not the query.\n",
    "2. Stored chunk embeddings must contain metadata to support nonStrictMetadataFilter. To support also queries with nonStrictMetadataFilter, we need to store both text-only chunk embeddings and text+metadata chunk embeddings, increasing storage and embedding cost.\n",
    "Non-Strict Metadata Filter"
   ]
  },
  {
   "cell_type": "markdown",
   "id": "e25189b2",
   "metadata": {},
   "source": [
    "### Non-strict meta data filtering using reranker model"
   ]
  },
  {
   "cell_type": "markdown",
   "id": "fb183b2b",
   "metadata": {},
   "source": [
    "In this approach after the embedding search has been done the query along with the nonStrictMetadataFilter is passed to the re-ranker model which in it's reranking should be able to consider the filter."
   ]
  },
  {
   "cell_type": "markdown",
   "id": "8f845138",
   "metadata": {},
   "source": [
    "#### Strict meta-data filter on the embedded search"
   ]
  },
  {
   "cell_type": "code",
   "execution_count": 77,
   "id": "8f6b84ff",
   "metadata": {},
   "outputs": [],
   "source": [
    "filters = MetadataFilters(\n",
    "    filters=[\n",
    "        MetadataFilter(key=\"dataset\", operator=FilterOperator.EQ, value=\"Scifact\"),\n",
    "    ]\n",
    ")\n",
    "\n",
    "retriever = index_strictfilter.as_retriever(filters=filters, similarity_top_k=10)"
   ]
  },
  {
   "cell_type": "code",
   "execution_count": 78,
   "id": "9ed21a66",
   "metadata": {},
   "outputs": [
    {
     "name": "stdout",
     "output_type": "stream",
     "text": [
      "INFO:httpx:HTTP Request: POST https://api.ai.intprod-eu12.eu-central-1.aws.ml.hana.ondemand.com/v2/inference/deployments/dcf97822fc795ac1/embeddings?api-version=2023-09-01-preview \"HTTP/1.1 200 OK\"\n",
      "HTTP Request: POST https://api.ai.intprod-eu12.eu-central-1.aws.ml.hana.ondemand.com/v2/inference/deployments/dcf97822fc795ac1/embeddings?api-version=2023-09-01-preview \"HTTP/1.1 200 OK\"\n",
      "HTTP Request: POST https://api.ai.intprod-eu12.eu-central-1.aws.ml.hana.ondemand.com/v2/inference/deployments/dcf97822fc795ac1/embeddings?api-version=2023-09-01-preview \"HTTP/1.1 200 OK\"\n"
     ]
    },
    {
     "data": {
      "text/plain": [
       "[['5836', 'Scifact', 'cluster1'],\n",
       " ['72159', 'Scifact', 'cluster3'],\n",
       " ['19238', 'Scifact', 'cluster1'],\n",
       " ['18670', 'Scifact', 'cluster1'],\n",
       " ['33370', 'Scifact', 'cluster2'],\n",
       " ['92308', 'Scifact', 'cluster3'],\n",
       " ['36474', 'Scifact', 'cluster2'],\n",
       " ['92499', 'Scifact', 'cluster3'],\n",
       " ['79447', 'Scifact', 'cluster3'],\n",
       " ['54440', 'Scifact', 'cluster2']]"
      ]
     },
     "execution_count": 78,
     "metadata": {},
     "output_type": "execute_result"
    }
   ],
   "source": [
    "context=retriever.retrieve(\"Toll-like receptor (TLR) signaling is involved in the pathogenesis of human MDS.\")\n",
    "ci=[]\n",
    "for c in context:\n",
    "    ci.append([c.node.metadata['idx'],c.node.metadata['dataset'],c.node.metadata['cluster']])\n",
    "ci"
   ]
  },
  {
   "cell_type": "code",
   "execution_count": 83,
   "id": "40e999f6",
   "metadata": {
    "collapsed": true
   },
   "outputs": [
    {
     "name": "stderr",
     "output_type": "stream",
     "text": [
      "C:\\Users\\I068117\\Anaconda3\\envs\\myenv10\\lib\\site-packages\\sentence_transformers\\cross_encoder\\CrossEncoder.py:11: TqdmExperimentalWarning: Using `tqdm.autonotebook.tqdm` in notebook mode. Use `tqdm.tqdm` instead to force console mode (e.g. in jupyter console)\n",
      "  from tqdm.autonotebook import tqdm, trange\n"
     ]
    },
    {
     "name": "stdout",
     "output_type": "stream",
     "text": [
      "INFO:datasets:PyTorch version 2.3.1 available.\n",
      "PyTorch version 2.3.1 available.\n",
      "PyTorch version 2.3.1 available.\n"
     ]
    },
    {
     "name": "stderr",
     "output_type": "stream",
     "text": [
      "C:\\Users\\I068117\\Anaconda3\\envs\\myenv10\\lib\\site-packages\\huggingface_hub\\file_download.py:1132: FutureWarning: `resume_download` is deprecated and will be removed in version 1.0.0. Downloads always resume when possible. If you want to force a new download, use `force_download=True`.\n",
      "  warnings.warn(\n"
     ]
    },
    {
     "data": {
      "application/vnd.jupyter.widget-view+json": {
       "model_id": "d437ebbec3864da69fa7ece4d7547474",
       "version_major": 2,
       "version_minor": 0
      },
      "text/plain": [
       "config.json:   0%|          | 0.00/799 [00:00<?, ?B/s]"
      ]
     },
     "metadata": {},
     "output_type": "display_data"
    },
    {
     "name": "stderr",
     "output_type": "stream",
     "text": [
      "C:\\Users\\I068117\\Anaconda3\\envs\\myenv10\\lib\\site-packages\\huggingface_hub\\file_download.py:157: UserWarning: `huggingface_hub` cache-system uses symlinks by default to efficiently store duplicated files but your machine does not support them in C:\\Users\\I068117\\.cache\\huggingface\\hub\\models--BAAI--bge-reranker-base. Caching files will still work but in a degraded version that might require more space on your disk. This warning can be disabled by setting the `HF_HUB_DISABLE_SYMLINKS_WARNING` environment variable. For more details, see https://huggingface.co/docs/huggingface_hub/how-to-cache#limitations.\n",
      "To support symlinks on Windows, you either need to activate Developer Mode or to run Python as an administrator. In order to see activate developer mode, see this article: https://docs.microsoft.com/en-us/windows/apps/get-started/enable-your-device-for-development\n",
      "  warnings.warn(message)\n"
     ]
    },
    {
     "data": {
      "application/vnd.jupyter.widget-view+json": {
       "model_id": "a593345331a5459b92b9cb40dd4e3606",
       "version_major": 2,
       "version_minor": 0
      },
      "text/plain": [
       "model.safetensors:   0%|          | 0.00/1.11G [00:00<?, ?B/s]"
      ]
     },
     "metadata": {},
     "output_type": "display_data"
    },
    {
     "data": {
      "application/vnd.jupyter.widget-view+json": {
       "model_id": "fe96eeb69139436480197d5190087689",
       "version_major": 2,
       "version_minor": 0
      },
      "text/plain": [
       "tokenizer_config.json:   0%|          | 0.00/443 [00:00<?, ?B/s]"
      ]
     },
     "metadata": {},
     "output_type": "display_data"
    },
    {
     "data": {
      "application/vnd.jupyter.widget-view+json": {
       "model_id": "5a5a3ebd0b9348329a7b8f28757336d5",
       "version_major": 2,
       "version_minor": 0
      },
      "text/plain": [
       "sentencepiece.bpe.model:   0%|          | 0.00/5.07M [00:00<?, ?B/s]"
      ]
     },
     "metadata": {},
     "output_type": "display_data"
    },
    {
     "data": {
      "application/vnd.jupyter.widget-view+json": {
       "model_id": "7d7038d2193a480e94852a220658fd41",
       "version_major": 2,
       "version_minor": 0
      },
      "text/plain": [
       "tokenizer.json:   0%|          | 0.00/17.1M [00:00<?, ?B/s]"
      ]
     },
     "metadata": {},
     "output_type": "display_data"
    },
    {
     "data": {
      "application/vnd.jupyter.widget-view+json": {
       "model_id": "6d067c3ed36248fb87b39f1d2a04dcc2",
       "version_major": 2,
       "version_minor": 0
      },
      "text/plain": [
       "special_tokens_map.json:   0%|          | 0.00/279 [00:00<?, ?B/s]"
      ]
     },
     "metadata": {},
     "output_type": "display_data"
    }
   ],
   "source": [
    "from llama_index.core.postprocessor import SentenceTransformerRerank"
   ]
  },
  {
   "cell_type": "code",
   "execution_count": 88,
   "id": "ac08c7c9",
   "metadata": {},
   "outputs": [],
   "source": [
    "reranker = SentenceTransformerRerank(top_n=10, model=\"BAAI/bge-reranker-base\")"
   ]
  },
  {
   "cell_type": "markdown",
   "id": "7ceeb011",
   "metadata": {},
   "source": [
    "#### Re-ranker model without non-strict meta data filtering"
   ]
  },
  {
   "cell_type": "code",
   "execution_count": 89,
   "id": "7369bc81",
   "metadata": {},
   "outputs": [
    {
     "data": {
      "application/vnd.jupyter.widget-view+json": {
       "model_id": "1827f9b79fe248e7afa034c7f7937e45",
       "version_major": 2,
       "version_minor": 0
      },
      "text/plain": [
       "Batches:   0%|          | 0/1 [00:00<?, ?it/s]"
      ]
     },
     "metadata": {},
     "output_type": "display_data"
    },
    {
     "data": {
      "text/plain": [
       "[['5836', 'Scifact', 'cluster1'],\n",
       " ['72159', 'Scifact', 'cluster3'],\n",
       " ['36474', 'Scifact', 'cluster2'],\n",
       " ['54440', 'Scifact', 'cluster2'],\n",
       " ['18670', 'Scifact', 'cluster1'],\n",
       " ['92308', 'Scifact', 'cluster3'],\n",
       " ['92499', 'Scifact', 'cluster3'],\n",
       " ['33370', 'Scifact', 'cluster2'],\n",
       " ['79447', 'Scifact', 'cluster3'],\n",
       " ['19238', 'Scifact', 'cluster1']]"
      ]
     },
     "execution_count": 89,
     "metadata": {},
     "output_type": "execute_result"
    }
   ],
   "source": [
    "from llama_index.core import QueryBundle\n",
    "from llama_index.core.schema import NodeWithScore\n",
    "reranked_nodes = reranker.postprocess_nodes(context, query_bundle=QueryBundle(\"Toll-like receptor (TLR) signaling is involved in the pathogenesis of human MDS\"))\n",
    "ci=[]\n",
    "for c in reranked_nodes:\n",
    "    ci.append([c.node.metadata['idx'],c.node.metadata['dataset'],c.node.metadata['cluster']])\n",
    "ci"
   ]
  },
  {
   "cell_type": "markdown",
   "id": "426eaa6d",
   "metadata": {},
   "source": [
    "#### Re-ranking with non-strict meta-data filter by adding it to the query - introducing bias for cluster 3"
   ]
  },
  {
   "cell_type": "code",
   "execution_count": 91,
   "id": "799bd367",
   "metadata": {},
   "outputs": [
    {
     "data": {
      "application/vnd.jupyter.widget-view+json": {
       "model_id": "7ecd0ec3625c431cb8aafe3f182fbd84",
       "version_major": 2,
       "version_minor": 0
      },
      "text/plain": [
       "Batches:   0%|          | 0/1 [00:00<?, ?it/s]"
      ]
     },
     "metadata": {},
     "output_type": "display_data"
    },
    {
     "data": {
      "text/plain": [
       "[['5836', 'Scifact', 'cluster1'],\n",
       " ['72159', 'Scifact', 'cluster3'],\n",
       " ['92308', 'Scifact', 'cluster3'],\n",
       " ['79447', 'Scifact', 'cluster3'],\n",
       " ['92499', 'Scifact', 'cluster3'],\n",
       " ['36474', 'Scifact', 'cluster2'],\n",
       " ['19238', 'Scifact', 'cluster1'],\n",
       " ['33370', 'Scifact', 'cluster2'],\n",
       " ['54440', 'Scifact', 'cluster2'],\n",
       " ['18670', 'Scifact', 'cluster1']]"
      ]
     },
     "execution_count": 91,
     "metadata": {},
     "output_type": "execute_result"
    }
   ],
   "source": [
    "from llama_index.core import QueryBundle\n",
    "from llama_index.core.schema import NodeWithScore\n",
    "reranked_nodes = reranker.postprocess_nodes(context, query_bundle=QueryBundle(\"Toll-like receptor (TLR) signaling is involved in the pathogenesis of human MDS. cluster 3\"))\n",
    "ci=[]\n",
    "for c in reranked_nodes:\n",
    "    ci.append([c.node.metadata['idx'],c.node.metadata['dataset'],c.node.metadata['cluster']])\n",
    "ci"
   ]
  },
  {
   "cell_type": "markdown",
   "id": "627acb59",
   "metadata": {},
   "source": [
    "#### Cohere Re-ranker model without non-strict meta data filtering"
   ]
  },
  {
   "cell_type": "code",
   "execution_count": 76,
   "id": "c09cf3e1",
   "metadata": {},
   "outputs": [],
   "source": [
    "import cohere\n",
    "# init client\n",
    "co = cohere.Client(\"fO0pe0IbZyWcHJ2HLhLb1Zc9b0HbFb7bYjpsA2On\")"
   ]
  },
  {
   "cell_type": "code",
   "execution_count": 116,
   "id": "f6de3f6f",
   "metadata": {},
   "outputs": [],
   "source": [
    "context_doc = []\n",
    "\n",
    "# Assuming context is a list of objects that have the method get_content(metadata_mode=\"all\")\n",
    "for i in range(len(context)):\n",
    "    context_doc.append(context[i].get_content(metadata_mode=\"all\"))"
   ]
  },
  {
   "cell_type": "code",
   "execution_count": 154,
   "id": "f71d7065",
   "metadata": {
    "scrolled": false
   },
   "outputs": [
    {
     "data": {
      "text/plain": [
       "[['5836', 'Scifact', 'cluster1'],\n",
       " ['72159', 'Scifact', 'cluster3'],\n",
       " ['92499', 'Scifact', 'cluster3'],\n",
       " ['18670', 'Scifact', 'cluster1'],\n",
       " ['79447', 'Scifact', 'cluster3'],\n",
       " ['36474', 'Scifact', 'cluster2'],\n",
       " ['92308', 'Scifact', 'cluster3'],\n",
       " ['54440', 'Scifact', 'cluster2'],\n",
       " ['19238', 'Scifact', 'cluster1'],\n",
       " ['33370', 'Scifact', 'cluster2']]"
      ]
     },
     "execution_count": 154,
     "metadata": {},
     "output_type": "execute_result"
    }
   ],
   "source": [
    "rerank_docs = co.rerank(\n",
    "    query=\"Toll-like receptor (TLR) signaling is involved in the pathogenesis of human MDS\", documents=context_doc, top_n=10, model=\"rerank-english-v2.0\"\n",
    ")\n",
    "cohere_ranked_nodes= [context[i.index] for i in rerank_docs.results]\n",
    "ci=[]\n",
    "for c in cohere_ranked_nodes:\n",
    "    ci.append([c.node.metadata['idx'],c.node.metadata['dataset'],c.node.metadata['cluster']])\n",
    "ci"
   ]
  },
  {
   "cell_type": "markdown",
   "id": "86b87594",
   "metadata": {},
   "source": [
    "#### Re-ranking with non-strict meta-data filter by adding it to the query - introducing bias for cluster 3"
   ]
  },
  {
   "cell_type": "code",
   "execution_count": 156,
   "id": "fe0f394a",
   "metadata": {},
   "outputs": [
    {
     "name": "stdout",
     "output_type": "stream",
     "text": [
      "INFO:httpx:HTTP Request: POST https://api.cohere.com/v1/rerank \"HTTP/1.1 200 OK\"\n",
      "HTTP Request: POST https://api.cohere.com/v1/rerank \"HTTP/1.1 200 OK\"\n",
      "HTTP Request: POST https://api.cohere.com/v1/rerank \"HTTP/1.1 200 OK\"\n"
     ]
    },
    {
     "data": {
      "text/plain": [
       "[['72159', 'Scifact', 'cluster3'],\n",
       " ['5836', 'Scifact', 'cluster1'],\n",
       " ['18670', 'Scifact', 'cluster1'],\n",
       " ['92499', 'Scifact', 'cluster3'],\n",
       " ['36474', 'Scifact', 'cluster2'],\n",
       " ['79447', 'Scifact', 'cluster3'],\n",
       " ['92308', 'Scifact', 'cluster3'],\n",
       " ['54440', 'Scifact', 'cluster2'],\n",
       " ['19238', 'Scifact', 'cluster1'],\n",
       " ['33370', 'Scifact', 'cluster2']]"
      ]
     },
     "execution_count": 156,
     "metadata": {},
     "output_type": "execute_result"
    }
   ],
   "source": [
    "rerank_docs = co.rerank(\n",
    "    query=\"Toll-like receptor (TLR) signaling is involved in the pathogenesis of human MDS. Cluster 3\", documents=context_doc, top_n=10, model=\"rerank-english-v2.0\"\n",
    ")\n",
    "cohere_ranked_nodes= [context[i.index] for i in rerank_docs.results]\n",
    "ci=[]\n",
    "for c in cohere_ranked_nodes:\n",
    "    ci.append([c.node.metadata['idx'],c.node.metadata['dataset'],c.node.metadata['cluster']])\n",
    "ci"
   ]
  },
  {
   "cell_type": "markdown",
   "id": "05cd8a0a",
   "metadata": {},
   "source": [
    "### Meta- data extractors from the document"
   ]
  },
  {
   "cell_type": "code",
   "execution_count": 152,
   "id": "3422b299",
   "metadata": {},
   "outputs": [],
   "source": [
    "from llama_index.core.extractors import (\n",
    "    SummaryExtractor,\n",
    "    QuestionsAnsweredExtractor,\n",
    "    TitleExtractor,\n",
    "    KeywordExtractor,\n",
    "    BaseExtractor,\n",
    ")\n",
    "\n",
    "from llama_index.core.schema import MetadataMode\n",
    "\n",
    "from llama_index.core.extractors import (\n",
    "    SummaryExtractor,\n",
    "    QuestionsAnsweredExtractor,\n",
    ")\n",
    "\n",
    "extractors_1 = [\n",
    "    QuestionsAnsweredExtractor(\n",
    "        questions=3, llm=llama_llm, metadata_mode=MetadataMode.EMBED\n",
    "    ),\n",
    "]\n",
    "\n",
    "class CustomExtractor(BaseExtractor):\n",
    "    def extract(self, nodes):\n",
    "        metadata_list = [\n",
    "            {\n",
    "                \"custom\": \"Cluster1\"\n",
    "            }\n",
    "            for node in nodes\n",
    "        ]\n",
    "        return metadata_list"
   ]
  },
  {
   "cell_type": "code",
   "execution_count": 19,
   "id": "3bf007b1",
   "metadata": {
    "scrolled": true
   },
   "outputs": [
    {
     "data": {
      "application/vnd.jupyter.widget-view+json": {
       "model_id": "c3c01634cca84c4e98d6e801b5387cbf",
       "version_major": 2,
       "version_minor": 0
      },
      "text/plain": [
       "Parsing nodes:   0%|          | 0/3 [00:00<?, ?it/s]"
      ]
     },
     "metadata": {},
     "output_type": "display_data"
    },
    {
     "name": "stderr",
     "output_type": "stream",
     "text": [
      "  0%|                                                                                            | 0/3 [00:00<?, ?it/s]C:\\Users\\I068117\\Anaconda3\\envs\\myenv10\\lib\\site-packages\\langchain_core\\_api\\deprecation.py:119: LangChainDeprecationWarning: The method `BaseChatModel.predict_messages` was deprecated in langchain-core 0.1.7 and will be removed in 0.3.0. Use invoke instead.\n",
      "  warn_deprecated(\n",
      "100%|████████████████████████████████████████████████████████████████████████████████████| 3/3 [00:04<00:00,  1.35s/it]\n"
     ]
    }
   ],
   "source": [
    "from llama_index.core.ingestion import IngestionPipeline\n",
    "\n",
    "# process nodes with metadata extractors\n",
    "pipeline = IngestionPipeline(transformations=[node_parser, *CustomExtractor])\n",
    "\n",
    "nodes_1 = pipeline.run(nodes=nodes[:3], in_place=False, show_progress=True)"
   ]
  },
  {
   "cell_type": "markdown",
   "id": "fa610c3a",
   "metadata": {},
   "source": [
    "### Auto retreival filtering using LLM "
   ]
  },
  {
   "cell_type": "code",
   "execution_count": 126,
   "id": "76204bb4",
   "metadata": {},
   "outputs": [],
   "source": [
    "from llama_index.core.retrievers import VectorIndexAutoRetriever\n",
    "from llama_index.core.vector_stores.types import MetadataInfo, VectorStoreInfo\n",
    "\n",
    "vector_store_info = VectorStoreInfo(\n",
    "    content_info=\"Scifact\",\n",
    "    metadata_info=[\n",
    "        MetadataInfo(\n",
    "            name=\"idx\",\n",
    "            type=\"str\",\n",
    "            description=(\n",
    "                \"it's number index in the metadata\"\n",
    "            ),\n",
    "        ),\n",
    "    ],\n",
    ")\n",
    "\n",
    "retriever = VectorIndexAutoRetriever(\n",
    "    index, vector_store_info=vector_store_info,similarity_top_k=10)"
   ]
  }
 ],
 "metadata": {
  "kernelspec": {
   "display_name": "py310",
   "language": "python",
   "name": "py310"
  },
  "language_info": {
   "codemirror_mode": {
    "name": "ipython",
    "version": 3
   },
   "file_extension": ".py",
   "mimetype": "text/x-python",
   "name": "python",
   "nbconvert_exporter": "python",
   "pygments_lexer": "ipython3",
   "version": "3.10.14"
  }
 },
 "nbformat": 4,
 "nbformat_minor": 5
}
